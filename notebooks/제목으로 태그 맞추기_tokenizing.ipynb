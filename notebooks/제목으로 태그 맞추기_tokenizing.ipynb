{
  "nbformat": 4,
  "nbformat_minor": 0,
  "metadata": {
    "colab": {
      "name": "tokenizing",
      "provenance": [],
      "collapsed_sections": [],
      "toc_visible": true
    },
    "kernelspec": {
      "name": "python3",
      "display_name": "Python 3"
    }
  },
  "cells": [
    {
      "cell_type": "markdown",
      "metadata": {
        "id": "AAHJUOlOPEl2",
        "colab_type": "text"
      },
      "source": [
        "# 1. Motivation\n",
        "\n",
        "1. valid, test set을 보면 제목만 주어지고 songs나 tags에 대한 정보가 전혀 없는 경우가 있습니다. \n",
        "2. 때문에 플레이리스트 제목을 활용해보고 싶습니다.\n",
        "\n",
        "3. 제목은 매우 유용한 정보입니다. \n",
        "4. **Tags와** 플레이리스트를 같이 보다보면 제목에 있는 단어를 그대로 태그로 붙이는 경우가 많이 있기 때문입니다.\n",
        "\n",
        "\n",
        "\n",
        "아래 셀에서 간단히 확인해 봅시다."
      ]
    },
    {
      "cell_type": "code",
      "metadata": {
        "id": "ni5IEsRSQTxi",
        "colab_type": "code",
        "colab": {}
      },
      "source": [
        "import pandas as pd\n",
        "# data_path = your_path\n",
        "train = pd.read_json(data_path + 'train.json')\n",
        "val = pd.read_json(data_path + 'val.json')"
      ],
      "execution_count": 0,
      "outputs": []
    },
    {
      "cell_type": "code",
      "metadata": {
        "id": "3-sESEAmRZ1P",
        "colab_type": "code",
        "colab": {
          "base_uri": "https://localhost:8080/",
          "height": 402
        },
        "outputId": "83c29acd-ad38-4538-b9bc-040f421fe7dc"
      },
      "source": [
        "# 1을 확인해 볼 수 있습니다.\n",
        "val[(val['tags'] + val['songs']).map(len) == 0]"
      ],
      "execution_count": 4,
      "outputs": [
        {
          "output_type": "execute_result",
          "data": {
            "text/html": [
              "<div>\n",
              "<style scoped>\n",
              "    .dataframe tbody tr th:only-of-type {\n",
              "        vertical-align: middle;\n",
              "    }\n",
              "\n",
              "    .dataframe tbody tr th {\n",
              "        vertical-align: top;\n",
              "    }\n",
              "\n",
              "    .dataframe thead th {\n",
              "        text-align: right;\n",
              "    }\n",
              "</style>\n",
              "<table border=\"1\" class=\"dataframe\">\n",
              "  <thead>\n",
              "    <tr style=\"text-align: right;\">\n",
              "      <th></th>\n",
              "      <th>tags</th>\n",
              "      <th>id</th>\n",
              "      <th>plylst_title</th>\n",
              "      <th>songs</th>\n",
              "      <th>like_cnt</th>\n",
              "      <th>updt_date</th>\n",
              "    </tr>\n",
              "  </thead>\n",
              "  <tbody>\n",
              "    <tr>\n",
              "      <th>1</th>\n",
              "      <td>[]</td>\n",
              "      <td>131447</td>\n",
              "      <td>앨리스테이블</td>\n",
              "      <td>[]</td>\n",
              "      <td>1</td>\n",
              "      <td>2014-07-16 15:24:24.000</td>\n",
              "    </tr>\n",
              "    <tr>\n",
              "      <th>9</th>\n",
              "      <td>[]</td>\n",
              "      <td>142007</td>\n",
              "      <td>기분 좋은 재즈와 함께 만드는 달달한 하루</td>\n",
              "      <td>[]</td>\n",
              "      <td>0</td>\n",
              "      <td>2015-06-22 09:11:02.000</td>\n",
              "    </tr>\n",
              "    <tr>\n",
              "      <th>35</th>\n",
              "      <td>[]</td>\n",
              "      <td>65114</td>\n",
              "      <td>■■■■ 사랑,그리고이별 ■■■■</td>\n",
              "      <td>[]</td>\n",
              "      <td>6</td>\n",
              "      <td>2010-10-27 10:34:34.000</td>\n",
              "    </tr>\n",
              "    <tr>\n",
              "      <th>57</th>\n",
              "      <td>[]</td>\n",
              "      <td>87700</td>\n",
              "      <td>마쉬멜로우같은 멜로우한 음악</td>\n",
              "      <td>[]</td>\n",
              "      <td>6</td>\n",
              "      <td>2016-01-14 10:19:30.000</td>\n",
              "    </tr>\n",
              "    <tr>\n",
              "      <th>71</th>\n",
              "      <td>[]</td>\n",
              "      <td>35271</td>\n",
              "      <td>공부와 독서를 위한 #Newage</td>\n",
              "      <td>[]</td>\n",
              "      <td>10</td>\n",
              "      <td>2020-01-17 15:46:20.000</td>\n",
              "    </tr>\n",
              "    <tr>\n",
              "      <th>...</th>\n",
              "      <td>...</td>\n",
              "      <td>...</td>\n",
              "      <td>...</td>\n",
              "      <td>...</td>\n",
              "      <td>...</td>\n",
              "      <td>...</td>\n",
              "    </tr>\n",
              "    <tr>\n",
              "      <th>22903</th>\n",
              "      <td>[]</td>\n",
              "      <td>140513</td>\n",
              "      <td>10년이 지나 들어도 좋은 감성 Ballad</td>\n",
              "      <td>[]</td>\n",
              "      <td>405</td>\n",
              "      <td>2016-01-11 10:58:05.000</td>\n",
              "    </tr>\n",
              "    <tr>\n",
              "      <th>22920</th>\n",
              "      <td>[]</td>\n",
              "      <td>124704</td>\n",
              "      <td>가사의 의미와 뜻은모른다!! 오직 멜로디로만 선곡한 팝송!!</td>\n",
              "      <td>[]</td>\n",
              "      <td>27</td>\n",
              "      <td>2016-02-05 12:31:59.000</td>\n",
              "    </tr>\n",
              "    <tr>\n",
              "      <th>22981</th>\n",
              "      <td>[]</td>\n",
              "      <td>13045</td>\n",
              "      <td>＊카페 느낌 샹송♭</td>\n",
              "      <td>[]</td>\n",
              "      <td>38</td>\n",
              "      <td>2011-07-12 00:58:39.000</td>\n",
              "    </tr>\n",
              "    <tr>\n",
              "      <th>22991</th>\n",
              "      <td>[]</td>\n",
              "      <td>32537</td>\n",
              "      <td>컨트리 황제 조니 캐시가 선 레코드 시절 발표한 초기 대표작</td>\n",
              "      <td>[]</td>\n",
              "      <td>28</td>\n",
              "      <td>2019-06-17 14:22:48.000</td>\n",
              "    </tr>\n",
              "    <tr>\n",
              "      <th>22996</th>\n",
              "      <td>[]</td>\n",
              "      <td>86721</td>\n",
              "      <td>해 저무는 밤</td>\n",
              "      <td>[]</td>\n",
              "      <td>5</td>\n",
              "      <td>2016-04-27 15:32:55.000</td>\n",
              "    </tr>\n",
              "  </tbody>\n",
              "</table>\n",
              "<p>1749 rows × 6 columns</p>\n",
              "</div>"
            ],
            "text/plain": [
              "      tags      id  ... like_cnt                updt_date\n",
              "1       []  131447  ...        1  2014-07-16 15:24:24.000\n",
              "9       []  142007  ...        0  2015-06-22 09:11:02.000\n",
              "35      []   65114  ...        6  2010-10-27 10:34:34.000\n",
              "57      []   87700  ...        6  2016-01-14 10:19:30.000\n",
              "71      []   35271  ...       10  2020-01-17 15:46:20.000\n",
              "...    ...     ...  ...      ...                      ...\n",
              "22903   []  140513  ...      405  2016-01-11 10:58:05.000\n",
              "22920   []  124704  ...       27  2016-02-05 12:31:59.000\n",
              "22981   []   13045  ...       38  2011-07-12 00:58:39.000\n",
              "22991   []   32537  ...       28  2019-06-17 14:22:48.000\n",
              "22996   []   86721  ...        5  2016-04-27 15:32:55.000\n",
              "\n",
              "[1749 rows x 6 columns]"
            ]
          },
          "metadata": {
            "tags": []
          },
          "execution_count": 4
        }
      ]
    },
    {
      "cell_type": "code",
      "metadata": {
        "id": "2IzaoHL1QxeE",
        "colab_type": "code",
        "colab": {
          "base_uri": "https://localhost:8080/",
          "height": 279
        },
        "outputId": "0e36e89e-fc83-48ba-c104-6149950f9544"
      },
      "source": [
        "# 4를 확인해 볼 수 있습니다.\n",
        "train.tail()"
      ],
      "execution_count": 6,
      "outputs": [
        {
          "output_type": "execute_result",
          "data": {
            "text/html": [
              "<div>\n",
              "<style scoped>\n",
              "    .dataframe tbody tr th:only-of-type {\n",
              "        vertical-align: middle;\n",
              "    }\n",
              "\n",
              "    .dataframe tbody tr th {\n",
              "        vertical-align: top;\n",
              "    }\n",
              "\n",
              "    .dataframe thead th {\n",
              "        text-align: right;\n",
              "    }\n",
              "</style>\n",
              "<table border=\"1\" class=\"dataframe\">\n",
              "  <thead>\n",
              "    <tr style=\"text-align: right;\">\n",
              "      <th></th>\n",
              "      <th>tags</th>\n",
              "      <th>id</th>\n",
              "      <th>plylst_title</th>\n",
              "      <th>songs</th>\n",
              "      <th>like_cnt</th>\n",
              "      <th>updt_date</th>\n",
              "    </tr>\n",
              "  </thead>\n",
              "  <tbody>\n",
              "    <tr>\n",
              "      <th>115066</th>\n",
              "      <td>[록메탈, 밴드사운드, 록, 락메탈, 메탈, 락, extreme]</td>\n",
              "      <td>120325</td>\n",
              "      <td>METAL E'SM #2</td>\n",
              "      <td>[429629, 441511, 612106, 516359, 691768, 38714...</td>\n",
              "      <td>3</td>\n",
              "      <td>2020-04-17 04:31:11.000</td>\n",
              "    </tr>\n",
              "    <tr>\n",
              "      <th>115067</th>\n",
              "      <td>[일렉]</td>\n",
              "      <td>106976</td>\n",
              "      <td>빠른 리스너를 위한 따끈따끈한 최신 인기 EDM 모음!</td>\n",
              "      <td>[321330, 216057, 534472, 240306, 331098, 23288...</td>\n",
              "      <td>13</td>\n",
              "      <td>2015-12-24 17:23:19.000</td>\n",
              "    </tr>\n",
              "    <tr>\n",
              "      <th>115068</th>\n",
              "      <td>[담시, 가족, 눈물, 그리움, 주인공, 나의_이야기, 사랑, 친구]</td>\n",
              "      <td>11343</td>\n",
              "      <td>#1. 눈물이 앞을 가리는 나의_이야기</td>\n",
              "      <td>[50512, 249024, 250608, 371171, 229942, 694943...</td>\n",
              "      <td>4</td>\n",
              "      <td>2019-08-16 20:59:22.000</td>\n",
              "    </tr>\n",
              "    <tr>\n",
              "      <th>115069</th>\n",
              "      <td>[잔잔한, 버스, 퇴근버스, Pop, 풍경, 퇴근길]</td>\n",
              "      <td>131982</td>\n",
              "      <td>퇴근 버스에서 편히 들으면서 하루를 마무리하기에 좋은 POP</td>\n",
              "      <td>[533534, 608114, 343608, 417140, 609009, 30217...</td>\n",
              "      <td>4</td>\n",
              "      <td>2019-10-25 23:40:42.000</td>\n",
              "    </tr>\n",
              "    <tr>\n",
              "      <th>115070</th>\n",
              "      <td>[노래추천, 팝송추천, 팝송, 팝송모음]</td>\n",
              "      <td>100389</td>\n",
              "      <td>FAVORITE POPSONG!!!</td>\n",
              "      <td>[26008, 456354, 324105, 89871, 135272, 143548,...</td>\n",
              "      <td>17</td>\n",
              "      <td>2020-04-18 20:35:06.000</td>\n",
              "    </tr>\n",
              "  </tbody>\n",
              "</table>\n",
              "</div>"
            ],
            "text/plain": [
              "                                          tags  ...                updt_date\n",
              "115066    [록메탈, 밴드사운드, 록, 락메탈, 메탈, 락, extreme]  ...  2020-04-17 04:31:11.000\n",
              "115067                                    [일렉]  ...  2015-12-24 17:23:19.000\n",
              "115068  [담시, 가족, 눈물, 그리움, 주인공, 나의_이야기, 사랑, 친구]  ...  2019-08-16 20:59:22.000\n",
              "115069           [잔잔한, 버스, 퇴근버스, Pop, 풍경, 퇴근길]  ...  2019-10-25 23:40:42.000\n",
              "115070                  [노래추천, 팝송추천, 팝송, 팝송모음]  ...  2020-04-18 20:35:06.000\n",
              "\n",
              "[5 rows x 6 columns]"
            ]
          },
          "metadata": {
            "tags": []
          },
          "execution_count": 6
        }
      ]
    },
    {
      "cell_type": "markdown",
      "metadata": {
        "id": "CP7W0SFeQ6hX",
        "colab_type": "text"
      },
      "source": [
        "- `퇴근 버스에서 편히 들으면서 하루를 마무리하기에 좋은 POP`\n",
        "\n",
        "- `#1. 눈물이 앞을 가리는 나의_이야기`\n",
        "\n",
        "같은 경우를 보면 4를 확인해 볼 수 있습니다.\n",
        "\n",
        "**Khaiii Tokenizer**를 활용하여 제목에서 유용한 단어를 추출해 봅니다.\n",
        "\n",
        "다음 셀을 실행하면 코랩에서 설치됩니다. **시간이 꽤 걸립니다.**"
      ]
    },
    {
      "cell_type": "code",
      "metadata": {
        "id": "gHAvgQXuSE3o",
        "colab_type": "code",
        "cellView": "both",
        "colab": {}
      },
      "source": [
        "!git clone https://github.com/kakao/khaiii.git\n",
        "!pip install cmake\n",
        "!mkdir build\n",
        "!cd build && cmake /content/khaiii\n",
        "!cd /content/build/ && make all\n",
        "!cd /content/build/ && make resource\n",
        "!cd /content/build && make install\n",
        "!cd /content/build && make package_python\n",
        "!pip install /content/build/package_python"
      ],
      "execution_count": 0,
      "outputs": []
    },
    {
      "cell_type": "markdown",
      "metadata": {
        "id": "_FCt_DJeSz83",
        "colab_type": "text"
      },
      "source": [
        "# 2. 정답 Tags에서 자주 사용되는 품사 확인\n",
        "- 정답에서 형태소 분석을 하여 단어를 추출하고 싶습니다.\n",
        "- 그러나 모든 형태소가 추측에 도움을 주지는 않습니다.\n",
        "- 조사나 접속사 같은 불용어나 특수기호는 제거하고 싶습니다.\n",
        "- 어떤 품사가 태그 예측에 도움이 되는지 확인하기 위해 정답 Tag의 품사를 확인해 봅니다."
      ]
    },
    {
      "cell_type": "code",
      "metadata": {
        "id": "19w3gd4oY2W4",
        "colab_type": "code",
        "colab": {}
      },
      "source": [
        "import json\n",
        "import re\n",
        "from collections import Counter\n",
        "from typing import *\n",
        "\n",
        "import matplotlib.pyplot as plt; plt.rcdefaults()\n",
        "import numpy as np\n",
        "import pandas as pd\n",
        "from khaiii import KhaiiiApi  # khaiii 레포는 https://github.com/kakao/khaiii 이쪽"
      ],
      "execution_count": 0,
      "outputs": []
    },
    {
      "cell_type": "code",
      "metadata": {
        "id": "4qxOHZvOjhod",
        "colab_type": "code",
        "colab": {}
      },
      "source": [
        "def re_sub(series: pd.Series) -> pd.Series:\n",
        "    series = series.str.replace(pat=r'[ㄱ-ㅎ]', repl=r'', regex=True)  # ㅋ 제거용\n",
        "    series = series.str.replace(pat=r'[^\\w\\s]', repl=r'', regex=True)  # 특수문자 제거\n",
        "    series = series.str.replace(pat=r'[ ]{2,}', repl=r' ', regex=True)  # 공백 제거\n",
        "    series = series.str.replace(pat=r'[\\u3000]+', repl=r'', regex=True)  # u3000 제거\n",
        "    return series\n",
        "\n",
        "def flatten(list_of_list : List) -> List:\n",
        "    flatten = [j for i in list_of_list for j in i]\n",
        "    return flatten\n",
        "\n",
        "def get_token(title: str, tokenizer)-> List[Tuple]:\n",
        "    \n",
        "    if len(title)== 0 or title== ' ':  # 제목이 공백인 경우 tokenizer에러 발생\n",
        "        return []\n",
        "    \n",
        "    result = tokenizer.analyze(title)\n",
        "    result = [(morph.lex, morph.tag) for split in result for morph in split.morphs]  # (형태소, 품사) 튜플의 리스트\n",
        "    return result\n",
        "\n",
        "def get_all_tags(df) -> List:\n",
        "    tag_list = df['tags'].values.tolist()\n",
        "    tag_list = flatten(tag_list)\n",
        "    return tag_list"
      ],
      "execution_count": 0,
      "outputs": []
    },
    {
      "cell_type": "code",
      "metadata": {
        "id": "7XoeZOtnlJpz",
        "colab_type": "code",
        "colab": {}
      },
      "source": [
        "tokenizer = KhaiiiApi()\n",
        "all_tag = get_all_tags(train)\n",
        "token_tag = [get_token(x, tokenizer) for x in all_tag]  # 태그를 형태소 분석"
      ],
      "execution_count": 0,
      "outputs": []
    },
    {
      "cell_type": "code",
      "metadata": {
        "id": "LLNMwA6JUg19",
        "colab_type": "code",
        "colab": {
          "base_uri": "https://localhost:8080/",
          "height": 193
        },
        "outputId": "de10aaad-07c7-4544-9683-2d123ddcd695"
      },
      "source": [
        "token_tag[:10]"
      ],
      "execution_count": 11,
      "outputs": [
        {
          "output_type": "execute_result",
          "data": {
            "text/plain": [
              "[[('락', 'MAG')],\n",
              " [('추억', 'NNG')],\n",
              " [('회상', 'NNG')],\n",
              " [('까페', 'NNG')],\n",
              " [('잔잔', 'XR'), ('하', 'XSA'), ('ㄴ', 'ETM')],\n",
              " [('연말', 'NNG')],\n",
              " [('눈', 'NNG'), ('오', 'VV'), ('는', 'ETM'), ('날', 'NNG')],\n",
              " [('캐럴', 'NNG')],\n",
              " [('분위기', 'NNG')],\n",
              " [('따듯', 'XR'), ('하', 'XSA'), ('ㄴ', 'ETM')]]"
            ]
          },
          "metadata": {
            "tags": []
          },
          "execution_count": 11
        }
      ]
    },
    {
      "cell_type": "code",
      "metadata": {
        "id": "Kz6-Zo-NT1-0",
        "colab_type": "code",
        "colab": {
          "base_uri": "https://localhost:8080/",
          "height": 279
        },
        "outputId": "f6ce98ad-f565-490b-c230-788dd1e3530c"
      },
      "source": [
        "train.head(5)"
      ],
      "execution_count": 12,
      "outputs": [
        {
          "output_type": "execute_result",
          "data": {
            "text/html": [
              "<div>\n",
              "<style scoped>\n",
              "    .dataframe tbody tr th:only-of-type {\n",
              "        vertical-align: middle;\n",
              "    }\n",
              "\n",
              "    .dataframe tbody tr th {\n",
              "        vertical-align: top;\n",
              "    }\n",
              "\n",
              "    .dataframe thead th {\n",
              "        text-align: right;\n",
              "    }\n",
              "</style>\n",
              "<table border=\"1\" class=\"dataframe\">\n",
              "  <thead>\n",
              "    <tr style=\"text-align: right;\">\n",
              "      <th></th>\n",
              "      <th>tags</th>\n",
              "      <th>id</th>\n",
              "      <th>plylst_title</th>\n",
              "      <th>songs</th>\n",
              "      <th>like_cnt</th>\n",
              "      <th>updt_date</th>\n",
              "    </tr>\n",
              "  </thead>\n",
              "  <tbody>\n",
              "    <tr>\n",
              "      <th>0</th>\n",
              "      <td>[락]</td>\n",
              "      <td>61281</td>\n",
              "      <td>여행같은 음악</td>\n",
              "      <td>[525514, 129701, 383374, 562083, 297861, 13954...</td>\n",
              "      <td>71</td>\n",
              "      <td>2013-12-19 18:36:19.000</td>\n",
              "    </tr>\n",
              "    <tr>\n",
              "      <th>1</th>\n",
              "      <td>[추억, 회상]</td>\n",
              "      <td>10532</td>\n",
              "      <td>요즘 너 말야</td>\n",
              "      <td>[432406, 675945, 497066, 120377, 389529, 24427...</td>\n",
              "      <td>1</td>\n",
              "      <td>2014-12-02 16:19:42.000</td>\n",
              "    </tr>\n",
              "    <tr>\n",
              "      <th>2</th>\n",
              "      <td>[까페, 잔잔한]</td>\n",
              "      <td>76951</td>\n",
              "      <td>편하게, 잔잔하게 들을 수 있는 곡.-</td>\n",
              "      <td>[83116, 276692, 166267, 186301, 354465, 256598...</td>\n",
              "      <td>17</td>\n",
              "      <td>2017-08-28 07:09:34.000</td>\n",
              "    </tr>\n",
              "    <tr>\n",
              "      <th>3</th>\n",
              "      <td>[연말, 눈오는날, 캐럴, 분위기, 따듯한, 크리스마스캐럴, 겨울노래, 크리스마스,...</td>\n",
              "      <td>147456</td>\n",
              "      <td>크리스마스 분위기에 흠뻑 취하고 싶을때</td>\n",
              "      <td>[394031, 195524, 540149, 287984, 440773, 10033...</td>\n",
              "      <td>33</td>\n",
              "      <td>2019-12-05 15:15:18.000</td>\n",
              "    </tr>\n",
              "    <tr>\n",
              "      <th>4</th>\n",
              "      <td>[댄스]</td>\n",
              "      <td>27616</td>\n",
              "      <td>추억의 노래 ㅋ</td>\n",
              "      <td>[159327, 553610, 5130, 645103, 294435, 100657,...</td>\n",
              "      <td>9</td>\n",
              "      <td>2011-10-25 13:54:56.000</td>\n",
              "    </tr>\n",
              "  </tbody>\n",
              "</table>\n",
              "</div>"
            ],
            "text/plain": [
              "                                                tags  ...                updt_date\n",
              "0                                                [락]  ...  2013-12-19 18:36:19.000\n",
              "1                                           [추억, 회상]  ...  2014-12-02 16:19:42.000\n",
              "2                                          [까페, 잔잔한]  ...  2017-08-28 07:09:34.000\n",
              "3  [연말, 눈오는날, 캐럴, 분위기, 따듯한, 크리스마스캐럴, 겨울노래, 크리스마스,...  ...  2019-12-05 15:15:18.000\n",
              "4                                               [댄스]  ...  2011-10-25 13:54:56.000\n",
              "\n",
              "[5 rows x 6 columns]"
            ]
          },
          "metadata": {
            "tags": []
          },
          "execution_count": 12
        }
      ]
    },
    {
      "cell_type": "code",
      "metadata": {
        "id": "1yEPwhoWT1KC",
        "colab_type": "code",
        "colab": {}
      },
      "source": [
        "token_itself = list(filter(lambda x: len(x)==1, token_tag))  # 태그 자체가 형태소여서 분리되지 않는 태그만 골라봅니다\n",
        "token_itself = flatten(token_itself)\n",
        "flatten_token = flatten(token_tag)"
      ],
      "execution_count": 0,
      "outputs": []
    },
    {
      "cell_type": "code",
      "metadata": {
        "id": "tRD2bUbwB5AF",
        "colab_type": "code",
        "colab": {
          "base_uri": "https://localhost:8080/",
          "height": 70
        },
        "outputId": "f8578974-cccf-4887-ea89-05867c03348b"
      },
      "source": [
        "print('%-23s'%'# of original tag is', f'{len(all_tag):8,}')\n",
        "print('%-23s'%'# of morpheme itself is', f'{len(token_itself):8,}')\n",
        "print('%-23s'%'# of total token is', f'{len(flatten_token):8,}')"
      ],
      "execution_count": 14,
      "outputs": [
        {
          "output_type": "stream",
          "text": [
            "# of original tag is     476,331\n",
            "# of morpheme itself is  333,093\n",
            "# of total token is      722,860\n"
          ],
          "name": "stdout"
        }
      ]
    },
    {
      "cell_type": "code",
      "metadata": {
        "id": "BHmAW5Y1CI8U",
        "colab_type": "code",
        "colab": {}
      },
      "source": [
        "# Counting Part of Speech (pos)\n",
        "pos = [x[1] for x in token_itself]\n",
        "pos_count = Counter(pos)\n",
        "popular_pos = pos_count.most_common()"
      ],
      "execution_count": 0,
      "outputs": []
    },
    {
      "cell_type": "code",
      "metadata": {
        "id": "pmWjLgJNFmHp",
        "colab_type": "code",
        "colab": {
          "base_uri": "https://localhost:8080/",
          "height": 472
        },
        "outputId": "5e6d20a7-270c-412f-d248-80680fcebdfe"
      },
      "source": [
        "# tag 분류표는 https://github.com/kakao/khaiii/wiki/%EC%BD%94%ED%8D%BC%EC%8A%A4 를 참고\n",
        "objects = [x[0] for x in popular_pos]\n",
        "y_pos = np.arange(len(objects))\n",
        "performance = [x[1] for x in popular_pos]\n",
        "\n",
        "plt.barh(y_pos, performance, align='center', alpha=0.5)\n",
        "plt.yticks(y_pos, objects)\n",
        "plt.xlabel('Usage')\n",
        "plt.title('Part of Speech - Tags')\n",
        "\n",
        "plt.show()"
      ],
      "execution_count": 16,
      "outputs": [
        {
          "output_type": "display_data",
          "data": {
            "image/png": "[encoded data removed]",
            "text/plain": [
              "<Figure size 640x480 with 1 Axes>"
            ]
          },
          "metadata": {
            "tags": []
          }
        }
      ]
    },
    {
      "cell_type": "markdown",
      "metadata": {
        "id": "wl0SrJGXVAt5",
        "colab_type": "text"
      },
      "source": [
        "# 3. 플레이스리스트 제목을 형태소 분석\n",
        "- NNG, SL, NNP, MAG,SN가 압도적으로 많습니다.\n",
        "- 각각 일반 명사, 외국어, 고유 명사, 일반 부사, 숫자 입니다.\n",
        "- 확인해 보면 숫자의 경우 7080, 2000 같은 태그가 꽤 있습니다.\n",
        "- 제목을 형태소 분석한 결과가 위의 품사인 경우에만 남겨두겠습니다."
      ]
    },
    {
      "cell_type": "code",
      "metadata": {
        "id": "FQdfeLAkzaq8",
        "colab_type": "code",
        "colab": {}
      },
      "source": [
        "train['plylst_title'] = re_sub(train['plylst_title'])\n",
        "train.loc[:, 'ply_token'] = train['plylst_title'].map(lambda x: get_token(x, tokenizer))"
      ],
      "execution_count": 0,
      "outputs": []
    },
    {
      "cell_type": "code",
      "metadata": {
        "id": "yEVM6Z2JVqyW",
        "colab_type": "code",
        "colab": {}
      },
      "source": [
        "using_pos = ['NNG','SL','NNP','MAG','SN']  # 일반 명사, 외국어, 고유 명사, 일반 부사, 숫자\n",
        "train['ply_token'] = train['ply_token'].map(lambda x: list(filter(lambda x: x[1] in using_pos, x)))"
      ],
      "execution_count": 0,
      "outputs": []
    },
    {
      "cell_type": "code",
      "metadata": {
        "id": "7uj_clGPWjrl",
        "colab_type": "code",
        "colab": {}
      },
      "source": [
        "unique_tag = set(token_itself)\n",
        "unique_word = [x[0] for x in unique_tag]"
      ],
      "execution_count": 0,
      "outputs": []
    },
    {
      "cell_type": "code",
      "metadata": {
        "id": "kd7rO8tU1eEH",
        "colab_type": "code",
        "colab": {
          "base_uri": "https://localhost:8080/",
          "height": 528
        },
        "outputId": "65abecfa-798a-490f-8f07-e1e65f13ead9"
      },
      "source": [
        "# 우리의 목적은 정답 tags를 맞추는 것이기 때문에 정답 tags에 나온 형태소만 남겨둡니다.\n",
        "train['ply_token'] = train['ply_token'].map(lambda x: list(filter(lambda x: x[0] in unique_word, x)))\n",
        "train.head(10)"
      ],
      "execution_count": 20,
      "outputs": [
        {
          "output_type": "execute_result",
          "data": {
            "text/html": [
              "<div>\n",
              "<style scoped>\n",
              "    .dataframe tbody tr th:only-of-type {\n",
              "        vertical-align: middle;\n",
              "    }\n",
              "\n",
              "    .dataframe tbody tr th {\n",
              "        vertical-align: top;\n",
              "    }\n",
              "\n",
              "    .dataframe thead th {\n",
              "        text-align: right;\n",
              "    }\n",
              "</style>\n",
              "<table border=\"1\" class=\"dataframe\">\n",
              "  <thead>\n",
              "    <tr style=\"text-align: right;\">\n",
              "      <th></th>\n",
              "      <th>tags</th>\n",
              "      <th>id</th>\n",
              "      <th>plylst_title</th>\n",
              "      <th>songs</th>\n",
              "      <th>like_cnt</th>\n",
              "      <th>updt_date</th>\n",
              "      <th>ply_token</th>\n",
              "    </tr>\n",
              "  </thead>\n",
              "  <tbody>\n",
              "    <tr>\n",
              "      <th>0</th>\n",
              "      <td>[락]</td>\n",
              "      <td>61281</td>\n",
              "      <td>여행같은 음악</td>\n",
              "      <td>[525514, 129701, 383374, 562083, 297861, 13954...</td>\n",
              "      <td>71</td>\n",
              "      <td>2013-12-19 18:36:19.000</td>\n",
              "      <td>[(여행, NNG), (음악, NNG)]</td>\n",
              "    </tr>\n",
              "    <tr>\n",
              "      <th>1</th>\n",
              "      <td>[추억, 회상]</td>\n",
              "      <td>10532</td>\n",
              "      <td>요즘 너 말야</td>\n",
              "      <td>[432406, 675945, 497066, 120377, 389529, 24427...</td>\n",
              "      <td>1</td>\n",
              "      <td>2014-12-02 16:19:42.000</td>\n",
              "      <td>[(요즘, NNG), (말, NNG)]</td>\n",
              "    </tr>\n",
              "    <tr>\n",
              "      <th>2</th>\n",
              "      <td>[까페, 잔잔한]</td>\n",
              "      <td>76951</td>\n",
              "      <td>편하게 잔잔하게 들을 수 있는 곡</td>\n",
              "      <td>[83116, 276692, 166267, 186301, 354465, 256598...</td>\n",
              "      <td>17</td>\n",
              "      <td>2017-08-28 07:09:34.000</td>\n",
              "      <td>[(곡, NNG)]</td>\n",
              "    </tr>\n",
              "    <tr>\n",
              "      <th>3</th>\n",
              "      <td>[연말, 눈오는날, 캐럴, 분위기, 따듯한, 크리스마스캐럴, 겨울노래, 크리스마스,...</td>\n",
              "      <td>147456</td>\n",
              "      <td>크리스마스 분위기에 흠뻑 취하고 싶을때</td>\n",
              "      <td>[394031, 195524, 540149, 287984, 440773, 10033...</td>\n",
              "      <td>33</td>\n",
              "      <td>2019-12-05 15:15:18.000</td>\n",
              "      <td>[(크리스마스, NNG), (분위기, NNG), (흠뻑, MAG)]</td>\n",
              "    </tr>\n",
              "    <tr>\n",
              "      <th>4</th>\n",
              "      <td>[댄스]</td>\n",
              "      <td>27616</td>\n",
              "      <td>추억의 노래</td>\n",
              "      <td>[159327, 553610, 5130, 645103, 294435, 100657,...</td>\n",
              "      <td>9</td>\n",
              "      <td>2011-10-25 13:54:56.000</td>\n",
              "      <td>[(추억, NNG), (노래, NNG)]</td>\n",
              "    </tr>\n",
              "    <tr>\n",
              "      <th>5</th>\n",
              "      <td>[운동, 드라이브, Pop, 트로피컬하우스, 힐링, 기분전환, 2017, 팝, 트렌...</td>\n",
              "      <td>69252</td>\n",
              "      <td>2017 Pop Trend</td>\n",
              "      <td>[418694, 222305, 96545, 135950, 304687, 457451...</td>\n",
              "      <td>435</td>\n",
              "      <td>2017-09-15 15:59:26.000</td>\n",
              "      <td>[(2017, SN), (Pop, SL)]</td>\n",
              "    </tr>\n",
              "    <tr>\n",
              "      <th>6</th>\n",
              "      <td>[짝사랑, 취향저격, 슬픔, 고백, 사랑, 이별]</td>\n",
              "      <td>45339</td>\n",
              "      <td>짝사랑고백사랑이별슬픔 감성을 자극하는곡들</td>\n",
              "      <td>[528130, 505036, 398947, 627363, 37748, 376358...</td>\n",
              "      <td>24</td>\n",
              "      <td>2016-10-24 21:30:17.000</td>\n",
              "      <td>[(짝사랑, NNG), (감성, NNG), (자극, NNG), (곡, NNG)]</td>\n",
              "    </tr>\n",
              "    <tr>\n",
              "      <th>7</th>\n",
              "      <td>[잔잔한, 추억, 회상]</td>\n",
              "      <td>36557</td>\n",
              "      <td>멍청이 내맘도 몰라</td>\n",
              "      <td>[496913, 632529, 501426, 515574, 411161, 10341...</td>\n",
              "      <td>5</td>\n",
              "      <td>2008-09-23 22:32:02.000</td>\n",
              "      <td>[(맘, NNG)]</td>\n",
              "    </tr>\n",
              "    <tr>\n",
              "      <th>8</th>\n",
              "      <td>[일렉트로니카, 포크, 메탈, 락, 댄스, 인디]</td>\n",
              "      <td>70741</td>\n",
              "      <td>DANCING IN THE MOONLIGHT 01</td>\n",
              "      <td>[634861, 270738, 163936, 692209, 449477, 56342...</td>\n",
              "      <td>0</td>\n",
              "      <td>2019-11-30 21:17:59.000</td>\n",
              "      <td>[(01, SN)]</td>\n",
              "    </tr>\n",
              "    <tr>\n",
              "      <th>9</th>\n",
              "      <td>[록, Metal, 이일우, M에센셜, 메탈, Rock, 락]</td>\n",
              "      <td>10288</td>\n",
              "      <td>록메탈 Written by 이일우</td>\n",
              "      <td>[613315, 439294, 230806, 497932, 113479, 93506...</td>\n",
              "      <td>7</td>\n",
              "      <td>2016-06-17 18:23:54.000</td>\n",
              "      <td>[(록메탈, NNP), (이일우, NNP)]</td>\n",
              "    </tr>\n",
              "  </tbody>\n",
              "</table>\n",
              "</div>"
            ],
            "text/plain": [
              "                                                tags  ...                                     ply_token\n",
              "0                                                [락]  ...                        [(여행, NNG), (음악, NNG)]\n",
              "1                                           [추억, 회상]  ...                         [(요즘, NNG), (말, NNG)]\n",
              "2                                          [까페, 잔잔한]  ...                                    [(곡, NNG)]\n",
              "3  [연말, 눈오는날, 캐럴, 분위기, 따듯한, 크리스마스캐럴, 겨울노래, 크리스마스,...  ...         [(크리스마스, NNG), (분위기, NNG), (흠뻑, MAG)]\n",
              "4                                               [댄스]  ...                        [(추억, NNG), (노래, NNG)]\n",
              "5  [운동, 드라이브, Pop, 트로피컬하우스, 힐링, 기분전환, 2017, 팝, 트렌...  ...                       [(2017, SN), (Pop, SL)]\n",
              "6                        [짝사랑, 취향저격, 슬픔, 고백, 사랑, 이별]  ...  [(짝사랑, NNG), (감성, NNG), (자극, NNG), (곡, NNG)]\n",
              "7                                      [잔잔한, 추억, 회상]  ...                                    [(맘, NNG)]\n",
              "8                        [일렉트로니카, 포크, 메탈, 락, 댄스, 인디]  ...                                    [(01, SN)]\n",
              "9                 [록, Metal, 이일우, M에센셜, 메탈, Rock, 락]  ...                      [(록메탈, NNP), (이일우, NNP)]\n",
              "\n",
              "[10 rows x 7 columns]"
            ]
          },
          "metadata": {
            "tags": []
          },
          "execution_count": 20
        }
      ]
    },
    {
      "cell_type": "markdown",
      "metadata": {
        "id": "obY5n--JWFrr",
        "colab_type": "text"
      },
      "source": [
        "# 4. Valid Set에 적용\n",
        "- 이제 Valid Set에 적용하고 제출해 봅니다. \n",
        "- 제목을 형태소 분석하고 필터링한 태그만 남겨두고 \n",
        "- 나머지는 제일 많이 나온 Tag로 채웁니다.\n",
        "- Valid Set에는 제목조차 없는 경우가 꽤 많아서 아쉽습니다."
      ]
    },
    {
      "cell_type": "code",
      "metadata": {
        "id": "TET9avv-a8do",
        "colab_type": "code",
        "colab": {}
      },
      "source": [
        "val['plylst_title'] = re_sub(val['plylst_title'])\n",
        "val.loc[:, 'ply_token'] = val['plylst_title'].map(lambda x: get_token(x, tokenizer))\n",
        "val['ply_token'] = val['ply_token'].map(lambda x: list(filter(lambda x: x[1] in using_pos, x)))\n",
        "val['ply_token'] = val['ply_token'].map(lambda x: list(filter(lambda x: x[0] in unique_word, x)))\n",
        "val['predict_tag'] = val['ply_token'].map(lambda x: [tag[0] for tag in x])"
      ],
      "execution_count": 0,
      "outputs": []
    },
    {
      "cell_type": "code",
      "metadata": {
        "id": "E1VKYIAVOTBG",
        "colab_type": "code",
        "colab": {
          "base_uri": "https://localhost:8080/",
          "height": 402
        },
        "outputId": "ae1616b0-7a32-4a7d-cbfd-3fe5df79da73"
      },
      "source": [
        "# 추출된 태그가 1개 이상인 경우를 봅니다. \n",
        "val['predict_len'] = val['predict_tag'].map(len)\n",
        "val[val['predict_len']>0][['tags', 'predict_tag', 'plylst_title']]"
      ],
      "execution_count": 22,
      "outputs": [
        {
          "output_type": "execute_result",
          "data": {
            "text/html": [
              "<div>\n",
              "<style scoped>\n",
              "    .dataframe tbody tr th:only-of-type {\n",
              "        vertical-align: middle;\n",
              "    }\n",
              "\n",
              "    .dataframe tbody tr th {\n",
              "        vertical-align: top;\n",
              "    }\n",
              "\n",
              "    .dataframe thead th {\n",
              "        text-align: right;\n",
              "    }\n",
              "</style>\n",
              "<table border=\"1\" class=\"dataframe\">\n",
              "  <thead>\n",
              "    <tr style=\"text-align: right;\">\n",
              "      <th></th>\n",
              "      <th>tags</th>\n",
              "      <th>predict_tag</th>\n",
              "      <th>plylst_title</th>\n",
              "    </tr>\n",
              "  </thead>\n",
              "  <tbody>\n",
              "    <tr>\n",
              "      <th>8</th>\n",
              "      <td>[스트레스]</td>\n",
              "      <td>[운동, 스트레스, 날]</td>\n",
              "      <td>리듬타면서 빡시게 운동하자스트레스 날리자</td>\n",
              "    </tr>\n",
              "    <tr>\n",
              "      <th>9</th>\n",
              "      <td>[]</td>\n",
              "      <td>[기분, 재즈, 함께, 달, 하루]</td>\n",
              "      <td>기분 좋은 재즈와 함께 만드는 달달한 하루</td>\n",
              "    </tr>\n",
              "    <tr>\n",
              "      <th>17</th>\n",
              "      <td>[생각나]</td>\n",
              "      <td>[다시, 사람]</td>\n",
              "      <td>다시 생각나는 그 사람</td>\n",
              "    </tr>\n",
              "    <tr>\n",
              "      <th>20</th>\n",
              "      <td>[피아노, 이루마, 메로디]</td>\n",
              "      <td>[불면증, 곡들]</td>\n",
              "      <td>불면증엔 아름다운 뉴에이지 곡들</td>\n",
              "    </tr>\n",
              "    <tr>\n",
              "      <th>35</th>\n",
              "      <td>[]</td>\n",
              "      <td>[별]</td>\n",
              "      <td>사랑그리고이별</td>\n",
              "    </tr>\n",
              "    <tr>\n",
              "      <th>...</th>\n",
              "      <td>...</td>\n",
              "      <td>...</td>\n",
              "      <td>...</td>\n",
              "    </tr>\n",
              "    <tr>\n",
              "      <th>22981</th>\n",
              "      <td>[]</td>\n",
              "      <td>[카페, 느낌, 샹송]</td>\n",
              "      <td>카페 느낌 샹송</td>\n",
              "    </tr>\n",
              "    <tr>\n",
              "      <th>22991</th>\n",
              "      <td>[]</td>\n",
              "      <td>[컨트리, 황제, 레코드, 시절, 초기]</td>\n",
              "      <td>컨트리 황제 조니 캐시가 선 레코드 시절 발표한 초기 대표작</td>\n",
              "    </tr>\n",
              "    <tr>\n",
              "      <th>22992</th>\n",
              "      <td>[사랑]</td>\n",
              "      <td>[음악]</td>\n",
              "      <td>옷차림이 가벼워질때 부담없이 듣는음악</td>\n",
              "    </tr>\n",
              "    <tr>\n",
              "      <th>22996</th>\n",
              "      <td>[]</td>\n",
              "      <td>[해, 밤]</td>\n",
              "      <td>해 저무는 밤</td>\n",
              "    </tr>\n",
              "    <tr>\n",
              "      <th>23002</th>\n",
              "      <td>[텐션, 명곡, 학창시절, 텐션업]</td>\n",
              "      <td>[곡, 텐션, 시, 그냥, 명곡, 주의]</td>\n",
              "      <td>숨어듣는명곡 텐션올릴때듣는 그시절그노래 그냥명곡있을수있음주의</td>\n",
              "    </tr>\n",
              "  </tbody>\n",
              "</table>\n",
              "<p>4046 rows × 3 columns</p>\n",
              "</div>"
            ],
            "text/plain": [
              "                      tags  ...                       plylst_title\n",
              "8                   [스트레스]  ...             리듬타면서 빡시게 운동하자스트레스 날리자\n",
              "9                       []  ...            기분 좋은 재즈와 함께 만드는 달달한 하루\n",
              "17                   [생각나]  ...                       다시 생각나는 그 사람\n",
              "20         [피아노, 이루마, 메로디]  ...                  불면증엔 아름다운 뉴에이지 곡들\n",
              "35                      []  ...                           사랑그리고이별 \n",
              "...                    ...  ...                                ...\n",
              "22981                   []  ...                           카페 느낌 샹송\n",
              "22991                   []  ...  컨트리 황제 조니 캐시가 선 레코드 시절 발표한 초기 대표작\n",
              "22992                 [사랑]  ...               옷차림이 가벼워질때 부담없이 듣는음악\n",
              "22996                   []  ...                            해 저무는 밤\n",
              "23002  [텐션, 명곡, 학창시절, 텐션업]  ...  숨어듣는명곡 텐션올릴때듣는 그시절그노래 그냥명곡있을수있음주의\n",
              "\n",
              "[4046 rows x 3 columns]"
            ]
          },
          "metadata": {
            "tags": []
          },
          "execution_count": 22
        }
      ]
    },
    {
      "cell_type": "code",
      "metadata": {
        "id": "ES9xGGpdPdhg",
        "colab_type": "code",
        "colab": {}
      },
      "source": [
        "val['predict_tag'] = val.apply(lambda x: [tag for tag in x.predict_tag if tag not in x.tags], axis=1)  # 이미 정답에 있는 건 제외"
      ],
      "execution_count": 0,
      "outputs": []
    },
    {
      "cell_type": "code",
      "metadata": {
        "id": "S5G_ULrtPRRa",
        "colab_type": "code",
        "colab": {}
      },
      "source": [
        "# 나머지는 제일 많이 나온 태그로 채웁니다\n",
        "tag_count = Counter(all_tag)\n",
        "popular_tag = tag_count.most_common(10)\n",
        "popular_tag = [x[0] for x in popular_tag]"
      ],
      "execution_count": 0,
      "outputs": []
    },
    {
      "cell_type": "code",
      "metadata": {
        "id": "RZlInb5bMDBY",
        "colab_type": "code",
        "colab": {}
      },
      "source": [
        "# 제출 코드\n",
        "val['tags'] = val['predict_tag'].map(lambda x: x+ popular_tag)\n",
        "val['tags'] = val['tags'].map(lambda x: list(dict.fromkeys(x)))\n",
        "val['tags'] = val['tags'].map(lambda x: x[:10])\n",
        "# songs도 일단 아무 숫자나 넣습니다\n",
        "val['songs'] = [list(range(100))] * len(val)"
      ],
      "execution_count": 0,
      "outputs": []
    },
    {
      "cell_type": "code",
      "metadata": {
        "id": "3RdQa1aRODqV",
        "colab_type": "code",
        "colab": {}
      },
      "source": [
        "def submission(df):\n",
        "    final = df[['id', 'songs', 'tags']].to_dict('index')\n",
        "    final = [i for i in final.values()]\n",
        "    with open(data_path+'results/results.json', 'w', encoding='utf-8') as f:\n",
        "        f.write(json.dumps(final, ensure_ascii=False))\n",
        "    !cd  \"/content/drive/My Drive/melon/results/\" && zip results.zip results.json"
      ],
      "execution_count": 0,
      "outputs": []
    },
    {
      "cell_type": "code",
      "metadata": {
        "id": "SezEBWKXOWbu",
        "colab_type": "code",
        "colab": {
          "base_uri": "https://localhost:8080/",
          "height": 34
        },
        "outputId": "00f22acc-e546-49d5-89df-6e65a526f210"
      },
      "source": [
        "submission(val)"
      ],
      "execution_count": 27,
      "outputs": [
        {
          "output_type": "stream",
          "text": [
            "updating: results.json (deflated 98%)\n"
          ],
          "name": "stdout"
        }
      ]
    },
    {
      "cell_type": "markdown",
      "metadata": {
        "id": "xf8m30Z6c2ie",
        "colab_type": "text"
      },
      "source": [
        "- 이렇게 제출한 결과 태그 정확도에서 0.169805 를 얻었습니다.\n",
        "- Baseline인 Global Most Popular 에서는 0.161075 입니다.\n",
        "- 이렇게만으로는 큰 성능 개선이 어렵습니다."
      ]
    },
    {
      "cell_type": "markdown",
      "metadata": {
        "id": "9vO7grkxdTne",
        "colab_type": "text"
      },
      "source": [
        "# 5. 추가로 시도해볼 것들"
      ]
    },
    {
      "cell_type": "markdown",
      "metadata": {
        "id": "IJuDYTCYedjH",
        "colab_type": "text"
      },
      "source": [
        "- Tags들을 보면 잔잔한, 시원한, 신나는 같은 (어근 + 한,는) 같은 조합이 많습니다.\n",
        "- 그러나 위에서는 형태소 분석을 했기 때문에 아래와 같은 결과를 얻습니다.\n",
        "- 이런 부분을 보완할 방법을 생각해봐야 합니다."
      ]
    },
    {
      "cell_type": "code",
      "metadata": {
        "id": "lkSseBqQeoeO",
        "colab_type": "code",
        "colab": {
          "base_uri": "https://localhost:8080/",
          "height": 34
        },
        "outputId": "5fdeaeaf-2051-4b6d-c846-24aea4e926b3"
      },
      "source": [
        "get_token('시원한 노래', tokenizer)"
      ],
      "execution_count": 28,
      "outputs": [
        {
          "output_type": "execute_result",
          "data": {
            "text/plain": [
              "[('시원', 'XR'), ('하', 'XSA'), ('ㄴ', 'ETM'), ('노래', 'NNG')]"
            ]
          },
          "metadata": {
            "tags": []
          },
          "execution_count": 28
        }
      ]
    },
    {
      "cell_type": "markdown",
      "metadata": {
        "id": "W5ltS6ude010",
        "colab_type": "text"
      },
      "source": [
        "- ita9naiwa님이 [올려주신 자료](https://arena.kakao.com/forum/topics/200)에 추가적인 정보로 형태소 분석된 태그를 추가하는 방법도 생각해 볼 수 있습니다.\n",
        "\n",
        "- 이 방법으로 cold-start 문제를 조금이나마 완화할 수 있을 것으로 기대 됩니다."
      ]
    },
    {
      "cell_type": "code",
      "metadata": {
        "id": "Cjz24TNnfLNc",
        "colab_type": "code",
        "colab": {}
      },
      "source": [
        ""
      ],
      "execution_count": 0,
      "outputs": []
    }
  ]
}