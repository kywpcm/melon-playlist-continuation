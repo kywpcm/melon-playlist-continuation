{
 "cells": [
  {
   "cell_type": "code",
   "execution_count": 8,
   "metadata": {},
   "outputs": [],
   "source": [
    "import os\n",
    "import json\n",
    "\n",
    "import pandas as pd\n",
    "\n",
    "from tqdm import tqdm\n",
    "from arena_util import write_json\n",
    "from arena_util import remove_seen\n",
    "from gensim.models import Word2Vec\n",
    "from gensim.models.keyedvectors import WordEmbeddingsKeyedVectors"
   ]
  },
  {
   "cell_type": "code",
   "execution_count": 9,
   "metadata": {},
   "outputs": [],
   "source": [
    "class PlaylistEmbedding:\n",
    "    def __init__(self, FILE_PATH):\n",
    "        self.FILE_PATH = FILE_PATH\n",
    "        self.min_count = 3\n",
    "        self.size = 100\n",
    "        self.window = 210\n",
    "        self.sg = 5\n",
    "        self.p2v_model = WordEmbeddingsKeyedVectors(self.size)\n",
    "        with open(os.path.join(FILE_PATH, 'train.json'), encoding=\"utf-8\") as f:\n",
    "            self.train = json.load(f)\n",
    "        with open(os.path.join(FILE_PATH, 'val.json'), encoding=\"utf-8\") as f:\n",
    "            self.val = json.load(f)\n",
    "        with open(os.path.join(FILE_PATH, 'results.json'), encoding=\"utf-8\") as f:\n",
    "            self.most_results = json.load(f)\n",
    "            \n",
    "    def get_dic(self, train, val):\n",
    "        song_dic = {}\n",
    "        tag_dic = {}\n",
    "        data = train + val\n",
    "        for q in tqdm(data):\n",
    "            song_dic[str(q['id'])] = q['songs']\n",
    "            tag_dic[str(q['id'])] = q['tags']\n",
    "        self.song_dic = song_dic\n",
    "        self.tag_dic = tag_dic\n",
    "        total = list(map(lambda x: list(map(str, x['songs'])) + list(x['tags']), data))\n",
    "        total = [x for x in total if len(x)>1]\n",
    "        self.total = total\n",
    "        \n",
    "    def get_w2v(self, total, min_count, size, window, sg):\n",
    "        w2v_model = Word2Vec(total, min_count = min_count, size = size, window = window, sg = sg)\n",
    "        self.w2v_model = w2v_model\n",
    "            \n",
    "    def update_p2v(self, train, val, w2v_model):\n",
    "        ID = []   \n",
    "        vec = []\n",
    "        for q in tqdm(train + val):\n",
    "            tmp_vec = 0\n",
    "            if len(q['songs'])>=1:\n",
    "                for song in q['songs'] + q['tags']:\n",
    "                    try: \n",
    "                        tmp_vec += w2v_model.wv.get_vector(str(song))\n",
    "                    except KeyError:\n",
    "                        pass\n",
    "            if type(tmp_vec)!=int:\n",
    "                ID.append(str(q['id']))    \n",
    "                vec.append(tmp_vec)\n",
    "        self.p2v_model.add(ID, vec)\n",
    "    \n",
    "    def get_result(self, p2v_model, song_dic, tag_dic, most_results, val):\n",
    "        answers = []\n",
    "        for n, q in tqdm(enumerate(val), total = len(val)):\n",
    "            try:\n",
    "                most_id = [x[0] for x in p2v_model.most_similar(str(q['id']), topn=200)]\n",
    "                get_song = []\n",
    "                get_tag = []\n",
    "                for ID in most_id:\n",
    "                    get_song += song_dic[ID]\n",
    "                    get_tag += tag_dic[ID]\n",
    "                get_song = list(pd.value_counts(get_song)[:200].index)\n",
    "                get_tag = list(pd.value_counts(get_tag)[:20].index)\n",
    "                answers.append({\n",
    "                    \"id\": q[\"id\"],\n",
    "                    \"songs\": remove_seen(q[\"songs\"], get_song)[:100],\n",
    "                    \"tags\": remove_seen(q[\"tags\"], get_tag)[:10],\n",
    "                })\n",
    "            except:\n",
    "                answers.append({\n",
    "                  \"id\": most_results[n][\"id\"],\n",
    "                  \"songs\": most_results[n]['songs'],\n",
    "                  \"tags\": most_results[n][\"tags\"],\n",
    "                }) \n",
    "        # check and update answer\n",
    "        for n, q in enumerate(answers):\n",
    "            if len(q['songs'])!=100:\n",
    "                answers[n]['songs'] += remove_seen(q['songs'], self.most_results[n]['songs'])[:100-len(q['songs'])]\n",
    "            if len(q['tags'])!=10:\n",
    "                answers[n]['tags'] += remove_seen(q['tags'], self.most_results[n]['tags'])[:10-len(q['tags'])]  \n",
    "        self.answers = answers\n",
    "    \n",
    "    def run(self):\n",
    "        self.get_dic(self.train, self.val)\n",
    "        self.get_w2v(self.total, self.min_count, self.size, self.window, self.sg)\n",
    "        self.update_p2v(self.train, self.val, self.w2v_model)\n",
    "        self.get_result(self.p2v_model, self.song_dic, self.tag_dic, self.most_results, self.val)\n",
    "        write_json(self.answers, 'results.json')"
   ]
  },
  {
   "cell_type": "code",
   "execution_count": 10,
   "metadata": {},
   "outputs": [
    {
     "name": "stderr",
     "output_type": "stream",
     "text": [
      "100%|██████████| 138086/138086 [00:00<00:00, 679958.84it/s]\n",
      "100%|██████████| 138086/138086 [00:18<00:00, 7522.94it/s] \n",
      "100%|██████████| 23015/23015 [01:54<00:00, 200.83it/s]\n"
     ]
    }
   ],
   "source": [
    "FILE_PATH = '../data/'\n",
    "U_space = PlaylistEmbedding(FILE_PATH)\n",
    "U_space.run()"
   ]
  }
 ],
 "metadata": {
  "kernelspec": {
   "display_name": "Python 3",
   "language": "python",
   "name": "python3"
  },
  "language_info": {
   "codemirror_mode": {
    "name": "ipython",
    "version": 3
   },
   "file_extension": ".py",
   "mimetype": "text/x-python",
   "name": "python",
   "nbconvert_exporter": "python",
   "pygments_lexer": "ipython3",
   "version": "3.7.6"
  }
 },
 "nbformat": 4,
 "nbformat_minor": 4
}
