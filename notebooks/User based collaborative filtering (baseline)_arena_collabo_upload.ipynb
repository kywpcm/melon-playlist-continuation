{
  "nbformat": 4,
  "nbformat_minor": 0,
  "metadata": {
    "colab": {
      "name": "arena_collabo_upload",
      "provenance": [],
      "collapsed_sections": [],
      "toc_visible": true
    },
    "kernelspec": {
      "name": "python3",
      "display_name": "Python 3"
    },
    "accelerator": "GPU"
  },
  "cells": [
    {
      "cell_type": "markdown",
      "metadata": {
        "id": "8Nd5NnqsXuOF",
        "colab_type": "text"
      },
      "source": [
        "# 협업 필터링 (Collaborative filtering)"
      ]
    },
    {
      "cell_type": "code",
      "metadata": {
        "id": "An5xbNYG7hvq",
        "colab_type": "code",
        "colab": {}
      },
      "source": [
        "# arena_util.py\n",
        "# -*- coding: utf-8 -*-\n",
        "\n",
        "import io\n",
        "import os\n",
        "import json\n",
        "import distutils.dir_util\n",
        "from collections import Counter\n",
        "\n",
        "import numpy as np\n",
        "\n",
        "\n",
        "def write_json(data, fname):\n",
        "    def _conv(o):\n",
        "        if isinstance(o, np.int64) or isinstance(o, np.int32):\n",
        "            return int(o)\n",
        "        raise TypeError\n",
        "\n",
        "    parent = os.path.dirname(fname)\n",
        "    distutils.dir_util.mkpath(\"./arena_data/\" + parent)\n",
        "    with io.open(\"./arena_data/\" + fname, \"w\", encoding=\"utf8\") as f:\n",
        "        json_str = json.dumps(data, ensure_ascii=False, default=_conv)\n",
        "        f.write(json_str)\n",
        "\n",
        "\n",
        "def load_json(fname):\n",
        "    with open(fname, encoding='utf8') as f:\n",
        "        json_obj = json.load(f)\n",
        "\n",
        "    return json_obj\n",
        "\n",
        "\n",
        "def debug_json(r):\n",
        "    print(json.dumps(r, ensure_ascii=False, indent=4))\n",
        "\n"
      ],
      "execution_count": 0,
      "outputs": []
    },
    {
      "cell_type": "markdown",
      "metadata": {
        "id": "6wmjd7-uLQpI",
        "colab_type": "text"
      },
      "source": [
        "Custom evaluating (weak)"
      ]
    },
    {
      "cell_type": "code",
      "metadata": {
        "id": "YAVMoJinHq2D",
        "colab_type": "code",
        "colab": {}
      },
      "source": [
        "# evaluate.py\n",
        "# -*- coding: utf-8 -*-\n",
        "# import fire\n",
        "import numpy as np\n",
        "\n",
        "# from arena_util import load_json\n",
        "\n",
        "\n",
        "class CustomEvaluator:\n",
        "    def _idcg(self, l):\n",
        "        return sum((1.0 / np.log(i + 2) for i in range(l)))\n",
        "\n",
        "    def __init__(self):\n",
        "        self._idcgs = [self._idcg(i) for i in range(101)]\n",
        "\n",
        "    def _ndcg(self, gt, rec):\n",
        "        dcg = 0.0\n",
        "        for i, r in enumerate(rec):\n",
        "            if r in gt:\n",
        "                dcg += 1.0 / np.log(i + 2)\n",
        "\n",
        "        return dcg / self._idcgs[len(gt)]\n",
        "\n",
        "    def _eval(self, gt_fname, rec_fname):\n",
        "        gt_playlists = load_json(gt_fname)\n",
        "        gt_dict = {g[\"id\"]: g for g in gt_playlists}\n",
        "        rec_playlists = load_json(rec_fname)\n",
        "        \n",
        "        music_ndcg = 0.0\n",
        "        tag_ndcg = 0.0\n",
        "\n",
        "        for rec in rec_playlists:\n",
        "            gt = gt_dict[rec[\"id\"]]\n",
        "            music_ndcg += self._ndcg(gt[\"songs\"], rec[\"songs\"][:100])\n",
        "            tag_ndcg += self._ndcg(gt[\"tags\"], rec[\"tags\"][:10])\n",
        "\n",
        "        music_ndcg = music_ndcg / len(rec_playlists)\n",
        "        tag_ndcg = tag_ndcg / len(rec_playlists)\n",
        "        score = music_ndcg * 0.85 + tag_ndcg * 0.15\n",
        "\n",
        "        return music_ndcg, tag_ndcg, score\n",
        "\n",
        "    def evaluate(self, gt_fname, rec_fname):\n",
        "        try:\n",
        "            music_ndcg, tag_ndcg, score = self._eval(gt_fname, rec_fname)\n",
        "            print(f\"Music nDCG: {music_ndcg:.6}\")\n",
        "            print(f\"Tag nDCG: {tag_ndcg:.6}\")\n",
        "            print(f\"Score: {score:.6}\")\n",
        "        except Exception as e:\n",
        "            print(e)\n",
        "\n",
        "\n",
        "# if __name__ == \"__main__\":\n",
        "#     fire.Fire(ArenaEvaluator)\n"
      ],
      "execution_count": 0,
      "outputs": []
    },
    {
      "cell_type": "code",
      "metadata": {
        "id": "thW-afcIIrMF",
        "colab_type": "code",
        "colab": {}
      },
      "source": [
        "from collections import Counter\n",
        "\n",
        "import numpy as np\n",
        "import pandas as pd\n",
        "\n",
        "import scipy.sparse as spr\n",
        "import pickle"
      ],
      "execution_count": 0,
      "outputs": []
    },
    {
      "cell_type": "code",
      "metadata": {
        "id": "1J_GnztkIuTv",
        "colab_type": "code",
        "colab": {}
      },
      "source": [
        "song_meta = pd.read_json(\"song_meta.json\")\n",
        "train = pd.read_json(\"train.json\")\n",
        "test = pd.read_json(\"val.json\")"
      ],
      "execution_count": 0,
      "outputs": []
    },
    {
      "cell_type": "markdown",
      "metadata": {
        "id": "IP_p3we7Poyq",
        "colab_type": "text"
      },
      "source": [
        "playlist, song, tag의 id(각각 nid, sid, tid)를 새로 생성하는 이유는, 새로 생성할 id를 matrix의 row, column index로 사용할 것이기 때문입니다.\n",
        "\n",
        "- plylst_id_nid : playlist id -> nid\n",
        "- plylst_nid_id : playlist nid -> id\n",
        "- song_id_sid : song id -> sid\n",
        "- song_sid_id : song sid -> id\n",
        "- tag_id_tid : tag id -> tid\n",
        "- tag_tid_id : tag tid -> id\n",
        "- song_dict : song id -> count\n",
        "- tag_dict : tag id -> count"
      ]
    },
    {
      "cell_type": "code",
      "metadata": {
        "id": "AU1b8AwJJ5cR",
        "colab_type": "code",
        "colab": {}
      },
      "source": [
        "train['istrain'] = 1\n",
        "test['istrain'] = 0\n",
        "\n",
        "n_train = len(train)\n",
        "n_test = len(test)\n",
        "\n",
        "# train + test\n",
        "plylst = pd.concat([train, test], ignore_index=True)\n",
        "\n",
        "# playlist id\n",
        "plylst[\"nid\"] = range(n_train + n_test)\n",
        "\n",
        "# id <-> nid\n",
        "plylst_id_nid = dict(zip(plylst[\"id\"],plylst[\"nid\"]))\n",
        "plylst_nid_id = dict(zip(plylst[\"nid\"],plylst[\"id\"]))"
      ],
      "execution_count": 0,
      "outputs": []
    },
    {
      "cell_type": "code",
      "metadata": {
        "id": "0pa3d4wYQpCZ",
        "colab_type": "code",
        "colab": {}
      },
      "source": [
        "plylst_tag = plylst['tags']\n",
        "tag_counter = Counter([tg for tgs in plylst_tag for tg in tgs])\n",
        "tag_dict = {x: tag_counter[x] for x in tag_counter}\n",
        "\n",
        "tag_id_tid = dict()\n",
        "tag_tid_id = dict()\n",
        "for i, t in enumerate(tag_dict):\n",
        "  tag_id_tid[t] = i\n",
        "  tag_tid_id[i] = t\n",
        "\n",
        "n_tags = len(tag_dict)\n",
        "\n",
        "plylst_song = plylst['songs']\n",
        "song_counter = Counter([sg for sgs in plylst_song for sg in sgs])\n",
        "song_dict = {x: song_counter[x] for x in song_counter}\n",
        "\n",
        "song_id_sid = dict()\n",
        "song_sid_id = dict()\n",
        "for i, t in enumerate(song_dict):\n",
        "  song_id_sid[t] = i\n",
        "  song_sid_id[i] = t\n",
        "\n",
        "n_songs = len(song_dict)"
      ],
      "execution_count": 0,
      "outputs": []
    },
    {
      "cell_type": "markdown",
      "metadata": {
        "id": "yasM1px9Rp9q",
        "colab_type": "text"
      },
      "source": [
        "plylst의 songs와 tags를 새로운 id로 변환하여 DataFrame에 추가합니다"
      ]
    },
    {
      "cell_type": "code",
      "metadata": {
        "id": "Bkd8EkxeTXMo",
        "colab_type": "code",
        "colab": {}
      },
      "source": [
        "plylst['songs_id'] = plylst['songs'].map(lambda x: [song_id_sid.get(s) for s in x if song_id_sid.get(s) != None])\n",
        "plylst['tags_id'] = plylst['tags'].map(lambda x: [tag_id_tid.get(t) for t in x if tag_id_tid.get(t) != None])"
      ],
      "execution_count": 0,
      "outputs": []
    },
    {
      "cell_type": "code",
      "metadata": {
        "id": "5OZHqvdZUWI-",
        "colab_type": "code",
        "colab": {}
      },
      "source": [
        "plylst_use = plylst[['istrain','nid','updt_date','songs_id','tags_id']]\n",
        "plylst_use.loc[:,'num_songs'] = plylst_use['songs_id'].map(len)\n",
        "plylst_use.loc[:,'num_tags'] = plylst_use['tags_id'].map(len)\n",
        "plylst_use = plylst_use.set_index('nid')"
      ],
      "execution_count": 0,
      "outputs": []
    },
    {
      "cell_type": "code",
      "metadata": {
        "id": "VeKHBqPawcTA",
        "colab_type": "code",
        "colab": {}
      },
      "source": [
        "plylst_train = plylst_use.iloc[:n_train,:]\n",
        "plylst_test = plylst_use.iloc[n_train:,:]"
      ],
      "execution_count": 0,
      "outputs": []
    },
    {
      "cell_type": "markdown",
      "metadata": {
        "id": "z1OUOX5TXmI5",
        "colab_type": "text"
      },
      "source": [
        "test set에서 샘플 300개만 뽑아 테스트해봅니다."
      ]
    },
    {
      "cell_type": "code",
      "metadata": {
        "id": "vWsuvrTTooAF",
        "colab_type": "code",
        "colab": {}
      },
      "source": [
        "# sample test\n",
        "np.random.seed(33)\n",
        "n_sample = 300\n",
        "\n",
        "test = plylst_test.iloc[np.random.choice(range(n_test), n_sample, replace=False),:]\n",
        "\n",
        "# real test\n",
        "# test = plylst_test\n",
        "# print(len(test))"
      ],
      "execution_count": 0,
      "outputs": []
    },
    {
      "cell_type": "markdown",
      "metadata": {
        "id": "MtsmQyJyjMFu",
        "colab_type": "text"
      },
      "source": [
        "row가 playlist(nid)이고 column이 item(sid or tid)인 sparse matrix A를 만듭니다."
      ]
    },
    {
      "cell_type": "code",
      "metadata": {
        "id": "n3Rz08Xown_e",
        "colab_type": "code",
        "colab": {}
      },
      "source": [
        "row = np.repeat(range(n_train), plylst_train['num_songs'])\n",
        "col = [song for songs in plylst_train['songs_id'] for song in songs]\n",
        "dat = np.repeat(1, plylst_train['num_songs'].sum())\n",
        "train_songs_A = spr.csr_matrix((dat, (row, col)), shape=(n_train, n_songs))\n",
        "\n",
        "row = np.repeat(range(n_train), plylst_train['num_tags'])\n",
        "col = [tag for tags in plylst_train['tags_id'] for tag in tags]\n",
        "dat = np.repeat(1, plylst_train['num_tags'].sum())\n",
        "train_tags_A = spr.csr_matrix((dat, (row, col)), shape=(n_train, n_tags))"
      ],
      "execution_count": 0,
      "outputs": []
    },
    {
      "cell_type": "code",
      "metadata": {
        "id": "7_QIIL2zCIzt",
        "colab_type": "code",
        "colab": {}
      },
      "source": [
        "train_songs_A_T = train_songs_A.T.tocsr()\n",
        "train_tags_A_T = train_tags_A.T.tocsr()"
      ],
      "execution_count": 0,
      "outputs": []
    },
    {
      "cell_type": "code",
      "metadata": {
        "id": "LNsuiuy-CQip",
        "colab_type": "code",
        "outputId": "e68705ad-f6a7-4eeb-d453-f59aba8d81b2",
        "colab": {
          "base_uri": "https://localhost:8080/",
          "height": 52
        }
      },
      "source": [
        "train_songs_A"
      ],
      "execution_count": 28,
      "outputs": [
        {
          "output_type": "execute_result",
          "data": {
            "text/plain": [
              "<92056x576228 sparse matrix of type '<class 'numpy.longlong'>'\n",
              "\twith 4239978 stored elements in Compressed Sparse Row format>"
            ]
          },
          "metadata": {
            "tags": []
          },
          "execution_count": 28
        }
      ]
    },
    {
      "cell_type": "code",
      "metadata": {
        "id": "hncUaaz9-ahN",
        "colab_type": "code",
        "colab": {}
      },
      "source": [
        "from tqdm import tqdm\n",
        "\n",
        "def rec(pids):\n",
        "  tt = 1\n",
        "\n",
        "  res = []\n",
        "\n",
        "  for pid in pids:\n",
        "    p = np.zeros((n_songs,1))\n",
        "    p[test.loc[pid,'songs_id']] = 1\n",
        "\n",
        "    val = train_songs_A.dot(p).reshape(-1)\n",
        "\n",
        "    songs_already = test.loc[pid, \"songs_id\"]\n",
        "    tags_already = test.loc[pid, \"tags_id\"]\n",
        "\n",
        "    cand_song = train_songs_A_T.dot(val)\n",
        "    cand_song_idx = cand_song.reshape(-1).argsort()[-150:][::-1]\n",
        "\n",
        "    cand_song_idx = cand_song_idx[np.isin(cand_song_idx, songs_already) == False][:100]\n",
        "    rec_song_idx = [song_sid_id[i] for i in cand_song_idx]\n",
        "\n",
        "    cand_tag = train_tags_A_T.dot(val)\n",
        "    cand_tag_idx = cand_tag.reshape(-1).argsort()[-15:][::-1]\n",
        "\n",
        "    cand_tag_idx = cand_tag_idx[np.isin(cand_tag_idx, tags_already) == False][:10]\n",
        "    rec_tag_idx = [tag_tid_id[i] for i in cand_tag_idx]\n",
        "\n",
        "    res.append({\n",
        "                \"id\": plylst_nid_id[pid],\n",
        "                \"songs\": rec_song_idx,\n",
        "                \"tags\": rec_tag_idx\n",
        "            })\n",
        "    \n",
        "    if tt % 1000 == 0:\n",
        "      print(tt)\n",
        "\n",
        "    tt += 1\n",
        "  return res"
      ],
      "execution_count": 0,
      "outputs": []
    },
    {
      "cell_type": "code",
      "metadata": {
        "id": "UxfbdCynkN0j",
        "colab_type": "code",
        "colab": {}
      },
      "source": [
        "answers = rec(test.index)"
      ],
      "execution_count": 0,
      "outputs": []
    },
    {
      "cell_type": "code",
      "metadata": {
        "id": "5u8ehmbhCtm0",
        "colab_type": "code",
        "colab": {}
      },
      "source": [
        "write_json(answers, \"results/results.json\")"
      ],
      "execution_count": 0,
      "outputs": []
    },
    {
      "cell_type": "code",
      "metadata": {
        "id": "i_iddRS7tRBe",
        "colab_type": "code",
        "outputId": "a09499eb-7bf5-4cf4-89ca-238445412934",
        "colab": {
          "base_uri": "https://localhost:8080/",
          "height": 70
        }
      },
      "source": [
        "evaluator = CustomEvaluator()\n",
        "evaluator.evaluate(\"arena_data/answers/val.json\", \"arena_data/results/results.json\")"
      ],
      "execution_count": 32,
      "outputs": [
        {
          "output_type": "stream",
          "text": [
            "Music nDCG: 0.165272\n",
            "Tag nDCG: 0.329114\n",
            "Score: 0.189849\n"
          ],
          "name": "stdout"
        }
      ]
    }
  ]
}