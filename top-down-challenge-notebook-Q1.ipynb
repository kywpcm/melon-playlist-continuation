{
  "nbformat": 4,
  "nbformat_minor": 0,
  "metadata": {
    "kernelspec": {
      "display_name": "Python 3",
      "language": "python",
      "name": "python3"
    },
    "language_info": {
      "codemirror_mode": {
        "name": "ipython",
        "version": 3
      },
      "file_extension": ".py",
      "mimetype": "text/x-python",
      "name": "python",
      "nbconvert_exporter": "python",
      "pygments_lexer": "ipython3",
      "version": "3.7.6"
    },
    "colab": {
      "name": "top-down-challenge-notebook-Q1.ipynb",
      "provenance": []
    }
  },
  "cells": [
    {
      "cell_type": "markdown",
      "metadata": {
        "id": "2Ca1f-fK2G4M",
        "colab_type": "text"
      },
      "source": [
        "# top-down challenge notebook"
      ]
    },
    {
      "cell_type": "markdown",
      "metadata": {
        "id": "goh9Q3i12G4N",
        "colab_type": "text"
      },
      "source": [
        "## Q1. 카카오 아레나 - 태그 있는거 찾아서 넣고, 나머지는 기존 인기곡/태그로 채우기\n",
        "\n",
        "- val.json 플레이리스트 데이터에서 태그 있는 플레이리스트 대상\n",
        "- 해당 태그로 train.json 검색\n",
        "- 태그1 검색 -> 태그2 검색 -> ... 이런식으로 계속 반복\n",
        "  - 단, 해당 태그 제외하고 10개 될 때 까지 검색. 노래도 마찬가지로 100개 될 때까지 검색\n",
        "  - 10개, 100개가 안 되면..?\n",
        "    - 인기곡/태그로 채우기"
      ]
    },
    {
      "cell_type": "markdown",
      "metadata": {
        "id": "MLS44qIGhMeq",
        "colab_type": "text"
      },
      "source": [
        "수정하면 어떻게 되지..?"
      ]
    },
    {
      "cell_type": "markdown",
      "metadata": {
        "id": "Z29W2LG02G4O",
        "colab_type": "text"
      },
      "source": [
        "---"
      ]
    },
    {
      "cell_type": "code",
      "metadata": {
        "id": "hIQh4aQi2G4P",
        "colab_type": "code",
        "colab": {}
      },
      "source": [
        "import pandas as pd\n",
        "pd.options.display.max_rows = 1000\n",
        "pd.set_option('display.max_colwidth', None) # 50"
      ],
      "execution_count": 3,
      "outputs": []
    },
    {
      "cell_type": "markdown",
      "metadata": {
        "id": "NSVAvkOX2G4W",
        "colab_type": "text"
      },
      "source": [
        "### val"
      ]
    },
    {
      "cell_type": "code",
      "metadata": {
        "id": "u-6aSKAP2G4X",
        "colab_type": "code",
        "colab": {}
      },
      "source": [
        "val = pd.read_json('res/val.json', typ='frame')"
      ],
      "execution_count": 4,
      "outputs": []
    },
    {
      "cell_type": "code",
      "metadata": {
        "id": "0qbDl88e2G4a",
        "colab_type": "code",
        "colab": {
          "base_uri": "https://localhost:8080/",
          "height": 34
        },
        "outputId": "7d1fbb6a-0025-4ddd-8418-b2db52d2998d"
      },
      "source": [
        "len(val)"
      ],
      "execution_count": 5,
      "outputs": [
        {
          "output_type": "execute_result",
          "data": {
            "text/plain": [
              "23015"
            ]
          },
          "metadata": {
            "tags": []
          },
          "execution_count": 5
        }
      ]
    },
    {
      "cell_type": "code",
      "metadata": {
        "id": "LpnI5Vvf2G4j",
        "colab_type": "code",
        "colab": {
          "base_uri": "https://localhost:8080/",
          "height": 419
        },
        "outputId": "b7414834-0b38-4637-cf31-d23c6cd0ab24"
      },
      "source": [
        "val.head(7)"
      ],
      "execution_count": 6,
      "outputs": [
        {
          "output_type": "execute_result",
          "data": {
            "text/html": [
              "<div>\n",
              "<style scoped>\n",
              "    .dataframe tbody tr th:only-of-type {\n",
              "        vertical-align: middle;\n",
              "    }\n",
              "\n",
              "    .dataframe tbody tr th {\n",
              "        vertical-align: top;\n",
              "    }\n",
              "\n",
              "    .dataframe thead th {\n",
              "        text-align: right;\n",
              "    }\n",
              "</style>\n",
              "<table border=\"1\" class=\"dataframe\">\n",
              "  <thead>\n",
              "    <tr style=\"text-align: right;\">\n",
              "      <th></th>\n",
              "      <th>tags</th>\n",
              "      <th>id</th>\n",
              "      <th>plylst_title</th>\n",
              "      <th>songs</th>\n",
              "      <th>like_cnt</th>\n",
              "      <th>updt_date</th>\n",
              "    </tr>\n",
              "  </thead>\n",
              "  <tbody>\n",
              "    <tr>\n",
              "      <th>0</th>\n",
              "      <td>[]</td>\n",
              "      <td>118598</td>\n",
              "      <td></td>\n",
              "      <td>[373313, 151080, 275346, 696876, 165237, 525935, 457812, 371709, 170292, 438915, 162569, 161136, 310892, 608704, 295701, 127698, 269427, 592526, 110696, 368214, 24386, 104455, 61612, 151421, 416023, 320447, 19606]</td>\n",
              "      <td>1675</td>\n",
              "      <td>2019-05-27 14:14:33.000</td>\n",
              "    </tr>\n",
              "    <tr>\n",
              "      <th>1</th>\n",
              "      <td>[]</td>\n",
              "      <td>131447</td>\n",
              "      <td>앨리스테이블</td>\n",
              "      <td>[]</td>\n",
              "      <td>1</td>\n",
              "      <td>2014-07-16 15:24:24.000</td>\n",
              "    </tr>\n",
              "    <tr>\n",
              "      <th>2</th>\n",
              "      <td>[]</td>\n",
              "      <td>51464</td>\n",
              "      <td></td>\n",
              "      <td>[529437, 516103, 360067, 705713, 226062, 370891, 344934, 495061, 297884, 180274, 614059, 175436, 110325, 314668]</td>\n",
              "      <td>62</td>\n",
              "      <td>2008-06-21 23:26:22.000</td>\n",
              "    </tr>\n",
              "    <tr>\n",
              "      <th>3</th>\n",
              "      <td>[]</td>\n",
              "      <td>45144</td>\n",
              "      <td></td>\n",
              "      <td>[589668, 21711, 570151, 320043, 13930, 599327, 216696, 423594, 170279, 93151, 455185, 634366, 277910, 671805, 622636, 232676, 442352]</td>\n",
              "      <td>20</td>\n",
              "      <td>2017-10-30 18:15:43.000</td>\n",
              "    </tr>\n",
              "    <tr>\n",
              "      <th>4</th>\n",
              "      <td>[]</td>\n",
              "      <td>79929</td>\n",
              "      <td></td>\n",
              "      <td>[672718, 121924, 102694, 683657, 201558, 385110, 610734, 83940]</td>\n",
              "      <td>20</td>\n",
              "      <td>2017-02-07 11:40:42.000</td>\n",
              "    </tr>\n",
              "    <tr>\n",
              "      <th>5</th>\n",
              "      <td>[비, 분위기, 컨트리, 서정적인]</td>\n",
              "      <td>138538</td>\n",
              "      <td></td>\n",
              "      <td>[173033, 138237, 63140, 15733, 461780, 308519, 645777, 225090, 73748, 204150]</td>\n",
              "      <td>2</td>\n",
              "      <td>2019-06-12 17:43:35.000</td>\n",
              "    </tr>\n",
              "    <tr>\n",
              "      <th>6</th>\n",
              "      <td>[]</td>\n",
              "      <td>127575</td>\n",
              "      <td></td>\n",
              "      <td>[227044, 424672, 515592, 22408, 57893, 153714, 212469]</td>\n",
              "      <td>2</td>\n",
              "      <td>2011-10-28 11:21:51.000</td>\n",
              "    </tr>\n",
              "  </tbody>\n",
              "</table>\n",
              "</div>"
            ],
            "text/plain": [
              "                  tags      id  ... like_cnt                updt_date\n",
              "0                   []  118598  ...     1675  2019-05-27 14:14:33.000\n",
              "1                   []  131447  ...        1  2014-07-16 15:24:24.000\n",
              "2                   []   51464  ...       62  2008-06-21 23:26:22.000\n",
              "3                   []   45144  ...       20  2017-10-30 18:15:43.000\n",
              "4                   []   79929  ...       20  2017-02-07 11:40:42.000\n",
              "5  [비, 분위기, 컨트리, 서정적인]  138538  ...        2  2019-06-12 17:43:35.000\n",
              "6                   []  127575  ...        2  2011-10-28 11:21:51.000\n",
              "\n",
              "[7 rows x 6 columns]"
            ]
          },
          "metadata": {
            "tags": []
          },
          "execution_count": 6
        }
      ]
    },
    {
      "cell_type": "code",
      "metadata": {
        "id": "aYhC0LUs2G4m",
        "colab_type": "code",
        "colab": {}
      },
      "source": [
        "val_with_tags = val[ val['tags'].apply(len).gt(0) ]"
      ],
      "execution_count": 7,
      "outputs": []
    },
    {
      "cell_type": "code",
      "metadata": {
        "id": "vi7ja0s72G4t",
        "colab_type": "code",
        "colab": {
          "base_uri": "https://localhost:8080/",
          "height": 34
        },
        "outputId": "e0670914-74ae-44e1-de22-fdb05a17fdcd"
      },
      "source": [
        "len(val_with_tags)"
      ],
      "execution_count": 8,
      "outputs": [
        {
          "output_type": "execute_result",
          "data": {
            "text/plain": [
              "11605"
            ]
          },
          "metadata": {
            "tags": []
          },
          "execution_count": 8
        }
      ]
    },
    {
      "cell_type": "markdown",
      "metadata": {
        "id": "JqoLd86k2G4z",
        "colab_type": "text"
      },
      "source": [
        "### TODO: val_with_tags for loop"
      ]
    },
    {
      "cell_type": "markdown",
      "metadata": {
        "id": "BrhPNCZt2G40",
        "colab_type": "text"
      },
      "source": [
        "val_with_tags + val_without_tags"
      ]
    },
    {
      "cell_type": "code",
      "metadata": {
        "scrolled": true,
        "id": "FmdF5pf82G42",
        "colab_type": "code",
        "colab": {
          "base_uri": "https://localhost:8080/",
          "height": 844
        },
        "outputId": "2060b2bf-f788-4ac9-f45a-7a396a87bb06"
      },
      "source": [
        "val_with_tags"
      ],
      "execution_count": 9,
      "outputs": [
        {
          "output_type": "execute_result",
          "data": {
            "text/html": [
              "<div>\n",
              "<style scoped>\n",
              "    .dataframe tbody tr th:only-of-type {\n",
              "        vertical-align: middle;\n",
              "    }\n",
              "\n",
              "    .dataframe tbody tr th {\n",
              "        vertical-align: top;\n",
              "    }\n",
              "\n",
              "    .dataframe thead th {\n",
              "        text-align: right;\n",
              "    }\n",
              "</style>\n",
              "<table border=\"1\" class=\"dataframe\">\n",
              "  <thead>\n",
              "    <tr style=\"text-align: right;\">\n",
              "      <th></th>\n",
              "      <th>tags</th>\n",
              "      <th>id</th>\n",
              "      <th>plylst_title</th>\n",
              "      <th>songs</th>\n",
              "      <th>like_cnt</th>\n",
              "      <th>updt_date</th>\n",
              "    </tr>\n",
              "  </thead>\n",
              "  <tbody>\n",
              "    <tr>\n",
              "      <th>5</th>\n",
              "      <td>[비, 분위기, 컨트리, 서정적인]</td>\n",
              "      <td>138538</td>\n",
              "      <td></td>\n",
              "      <td>[173033, 138237, 63140, 15733, 461780, 308519, 645777, 225090, 73748, 204150]</td>\n",
              "      <td>2</td>\n",
              "      <td>2019-06-12 17:43:35.000</td>\n",
              "    </tr>\n",
              "    <tr>\n",
              "      <th>8</th>\n",
              "      <td>[스트레스]</td>\n",
              "      <td>80810</td>\n",
              "      <td>리듬타면서 빡시게 운동하자!!!(스트레스 날리자):}</td>\n",
              "      <td>[]</td>\n",
              "      <td>127</td>\n",
              "      <td>2017-02-09 17:33:45.000</td>\n",
              "    </tr>\n",
              "    <tr>\n",
              "      <th>11</th>\n",
              "      <td>[아침, 눈, 크리스마스]</td>\n",
              "      <td>136650</td>\n",
              "      <td></td>\n",
              "      <td>[174132, 257367, 539802, 568691, 296891, 384718, 367173, 353844, 327260, 617514, 549031, 205884, 344666, 211309, 587112, 349494, 594472, 290695]</td>\n",
              "      <td>6</td>\n",
              "      <td>2017-11-24 11:26:05.000</td>\n",
              "    </tr>\n",
              "    <tr>\n",
              "      <th>12</th>\n",
              "      <td>[EDM]</td>\n",
              "      <td>53131</td>\n",
              "      <td></td>\n",
              "      <td>[392257, 668879, 460746, 680240, 490966, 250108, 431910, 65548, 26682, 361097, 82191, 348201, 547681, 286564, 118525, 155043, 61432, 158581, 228396]</td>\n",
              "      <td>268</td>\n",
              "      <td>2016-09-19 15:40:31.000</td>\n",
              "    </tr>\n",
              "    <tr>\n",
              "      <th>17</th>\n",
              "      <td>[생각나]</td>\n",
              "      <td>2380</td>\n",
              "      <td>다시 생각나는 그 사람</td>\n",
              "      <td>[]</td>\n",
              "      <td>6</td>\n",
              "      <td>2016-03-19 23:53:20.000</td>\n",
              "    </tr>\n",
              "    <tr>\n",
              "      <th>...</th>\n",
              "      <td>...</td>\n",
              "      <td>...</td>\n",
              "      <td>...</td>\n",
              "      <td>...</td>\n",
              "      <td>...</td>\n",
              "      <td>...</td>\n",
              "    </tr>\n",
              "    <tr>\n",
              "      <th>23007</th>\n",
              "      <td>[휴식, 포크, 커피, 2000년대]</td>\n",
              "      <td>44013</td>\n",
              "      <td></td>\n",
              "      <td>[434841, 362936, 361453, 628693, 113135, 350714, 542080, 653166, 442254]</td>\n",
              "      <td>180</td>\n",
              "      <td>2019-12-17 17:55:11.000</td>\n",
              "    </tr>\n",
              "    <tr>\n",
              "      <th>23008</th>\n",
              "      <td>[sweetmind, 발라드, 사랑, 기분전환, 역주행]</td>\n",
              "      <td>100684</td>\n",
              "      <td>[별책부록] Sweetmind의 음악마중</td>\n",
              "      <td>[]</td>\n",
              "      <td>79</td>\n",
              "      <td>2020-02-07 14:42:25.000</td>\n",
              "    </tr>\n",
              "    <tr>\n",
              "      <th>23009</th>\n",
              "      <td>[알앤비]</td>\n",
              "      <td>17766</td>\n",
              "      <td></td>\n",
              "      <td>[114387, 701557, 547449, 473514, 360916, 498452, 704752, 580326, 379112, 284984, 389731, 581369, 703935, 286648, 236393, 492163, 199390, 165352, 77781, 285157, 164508, 394700, 343974, 493804, 672550, 116847, 193458]</td>\n",
              "      <td>1</td>\n",
              "      <td>2015-07-21 17:06:45.000</td>\n",
              "    </tr>\n",
              "    <tr>\n",
              "      <th>23010</th>\n",
              "      <td>[잔잔한]</td>\n",
              "      <td>101722</td>\n",
              "      <td></td>\n",
              "      <td>[75842, 26083, 244183, 684715, 500593, 508608, 679436, 231937, 279712, 192479, 542337, 700617, 179980, 63818, 464304, 682776, 50057, 292099, 490361, 460174, 226675, 294782, 241453, 472397, 152394, 229487, 484964, 662916, 668037, 119380, 659779, 523810, 62694, 516039, 631810, 195524, 332442, 485271, 547995, 502709, 446812, 613077, 510190, 21633, 648841, 101945, 419696, 468732]</td>\n",
              "      <td>17</td>\n",
              "      <td>2015-12-17 14:06:05.000</td>\n",
              "    </tr>\n",
              "    <tr>\n",
              "      <th>23011</th>\n",
              "      <td>[어머니, 힘들때, 아빠, 가족, 위로받고싶을때]</td>\n",
              "      <td>122127</td>\n",
              "      <td></td>\n",
              "      <td>[450275, 487671, 561031, 663944, 628672, 591212, 701514, 581482, 84627, 462838, 131209, 555619, 122340, 595606, 459014, 701110, 676, 123547, 598667, 14641, 120556, 123015, 248887, 26249, 477689, 278394, 105755, 626478, 484506, 19458, 616335, 8871, 447050, 277671, 99752, 659334, 130601, 537206, 546888, 206865, 126702, 553095, 625127, 95485, 599463, 220971, 65496, 459382, 601250, 361185, 180953, 132219, 40016, 289070, 101808, 663737, 681191, 442580, 637004, 33861, 583999, 257205, 339463, 151114, 127324, 690770, 609744, 350231, 12594, 396672, 431454, 313704, 8719, 152475, 133859, 555039, 546623, 283138, 689594, 424992, 28024, 123841, 434580, 73702, 289818, 125822, 220264, 226579, 318006, 188313, 103106, 163383, 6736, 119757, 160533, 352978, 378594, 328334, 586564, 444003]</td>\n",
              "      <td>10</td>\n",
              "      <td>2020-04-16 21:35:44.000</td>\n",
              "    </tr>\n",
              "  </tbody>\n",
              "</table>\n",
              "<p>11605 rows × 6 columns</p>\n",
              "</div>"
            ],
            "text/plain": [
              "                                  tags  ...                updt_date\n",
              "5                  [비, 분위기, 컨트리, 서정적인]  ...  2019-06-12 17:43:35.000\n",
              "8                               [스트레스]  ...  2017-02-09 17:33:45.000\n",
              "11                      [아침, 눈, 크리스마스]  ...  2017-11-24 11:26:05.000\n",
              "12                               [EDM]  ...  2016-09-19 15:40:31.000\n",
              "17                               [생각나]  ...  2016-03-19 23:53:20.000\n",
              "...                                ...  ...                      ...\n",
              "23007             [휴식, 포크, 커피, 2000년대]  ...  2019-12-17 17:55:11.000\n",
              "23008  [sweetmind, 발라드, 사랑, 기분전환, 역주행]  ...  2020-02-07 14:42:25.000\n",
              "23009                            [알앤비]  ...  2015-07-21 17:06:45.000\n",
              "23010                            [잔잔한]  ...  2015-12-17 14:06:05.000\n",
              "23011      [어머니, 힘들때, 아빠, 가족, 위로받고싶을때]  ...  2020-04-16 21:35:44.000\n",
              "\n",
              "[11605 rows x 6 columns]"
            ]
          },
          "metadata": {
            "tags": []
          },
          "execution_count": 9
        }
      ]
    },
    {
      "cell_type": "code",
      "metadata": {
        "id": "0tcpWgxM2G46",
        "colab_type": "code",
        "colab": {}
      },
      "source": [
        ""
      ],
      "execution_count": 9,
      "outputs": []
    },
    {
      "cell_type": "code",
      "metadata": {
        "id": "cp_1meR82G49",
        "colab_type": "code",
        "colab": {}
      },
      "source": [
        ""
      ],
      "execution_count": 9,
      "outputs": []
    },
    {
      "cell_type": "code",
      "metadata": {
        "id": "uMsYACso2G5F",
        "colab_type": "code",
        "colab": {}
      },
      "source": [
        ""
      ],
      "execution_count": 9,
      "outputs": []
    },
    {
      "cell_type": "markdown",
      "metadata": {
        "id": "z_-PLvBW2G5J",
        "colab_type": "text"
      },
      "source": [
        "### train"
      ]
    },
    {
      "cell_type": "code",
      "metadata": {
        "id": "sgZThLjj2G5K",
        "colab_type": "code",
        "colab": {}
      },
      "source": [
        "train = pd.read_json('res/train.json')"
      ],
      "execution_count": 10,
      "outputs": []
    },
    {
      "cell_type": "code",
      "metadata": {
        "id": "Fny1SmOO2G5O",
        "colab_type": "code",
        "colab": {}
      },
      "source": [
        "tags = train['tags']"
      ],
      "execution_count": 11,
      "outputs": []
    },
    {
      "cell_type": "code",
      "metadata": {
        "id": "VhKk9tCQ2G5R",
        "colab_type": "code",
        "colab": {}
      },
      "source": [
        "searched_train = train[ tags.apply(lambda x: '비' in x) ] # search keyword"
      ],
      "execution_count": 12,
      "outputs": []
    },
    {
      "cell_type": "code",
      "metadata": {
        "id": "6TD6oEFP2G5b",
        "colab_type": "code",
        "colab": {
          "base_uri": "https://localhost:8080/",
          "height": 544
        },
        "outputId": "39477ea2-ce3b-4e32-d594-57c1f6b9ec27"
      },
      "source": [
        "searched_train.head()"
      ],
      "execution_count": 13,
      "outputs": [
        {
          "output_type": "execute_result",
          "data": {
            "text/html": [
              "<div>\n",
              "<style scoped>\n",
              "    .dataframe tbody tr th:only-of-type {\n",
              "        vertical-align: middle;\n",
              "    }\n",
              "\n",
              "    .dataframe tbody tr th {\n",
              "        vertical-align: top;\n",
              "    }\n",
              "\n",
              "    .dataframe thead th {\n",
              "        text-align: right;\n",
              "    }\n",
              "</style>\n",
              "<table border=\"1\" class=\"dataframe\">\n",
              "  <thead>\n",
              "    <tr style=\"text-align: right;\">\n",
              "      <th></th>\n",
              "      <th>tags</th>\n",
              "      <th>id</th>\n",
              "      <th>plylst_title</th>\n",
              "      <th>songs</th>\n",
              "      <th>like_cnt</th>\n",
              "      <th>updt_date</th>\n",
              "    </tr>\n",
              "  </thead>\n",
              "  <tbody>\n",
              "    <tr>\n",
              "      <th>118</th>\n",
              "      <td>[비오는날, 감성, 비, 아련, 발라드, 멜로, OST, 치명, 사랑]</td>\n",
              "      <td>136486</td>\n",
              "      <td>치명적이고도 치정적 사랑의 OST</td>\n",
              "      <td>[452316, 148785, 399636, 356564, 333768, 672355, 262019, 299789, 150653, 10232, 572932, 514134, 75118, 598294, 170159, 393436, 552496, 535097, 469459, 16634, 54614, 299107, 35603, 378146, 318996, 446875, 301977, 686043, 94809, 623183, 468612, 341556, 502749, 266820, 66897, 46046, 506883, 520379, 348895, 386218, 176424, 464140, 642481, 542099, 549149, 120974, 30020, 32690, 405206, 563262, 630884, 121860]</td>\n",
              "      <td>197</td>\n",
              "      <td>2020-04-10 00:08:52.000</td>\n",
              "    </tr>\n",
              "    <tr>\n",
              "      <th>148</th>\n",
              "      <td>[비오는날, 비_오는_날, 휴식, 비_오는날, 비]</td>\n",
              "      <td>32533</td>\n",
              "      <td>비오는날 감성 자극 듣기 좋은 어쿠스틱/피아노 발라드</td>\n",
              "      <td>[133091, 527764, 468136, 260894, 22845, 148876, 133143, 305761, 238285, 561025, 342925, 222141, 87920, 276092, 252823, 37888, 586300, 152422, 165281, 667100, 605326, 537527, 671380, 453121, 92356, 67756, 357367, 435053, 15341, 246531, 595562, 93156, 473256]</td>\n",
              "      <td>14</td>\n",
              "      <td>2020-02-16 00:56:45.000</td>\n",
              "    </tr>\n",
              "    <tr>\n",
              "      <th>782</th>\n",
              "      <td>[불면증, 새벽, 겨울, 비]</td>\n",
              "      <td>102910</td>\n",
              "      <td>새벽에 들으면 잠 잘오는 노래</td>\n",
              "      <td>[186156, 53849, 255065, 182368, 606703, 41587, 530256, 61552, 320835, 543097, 692123, 621969, 200267, 271531, 109903, 476773]</td>\n",
              "      <td>3</td>\n",
              "      <td>2020-03-14 13:48:43.000</td>\n",
              "    </tr>\n",
              "    <tr>\n",
              "      <th>1058</th>\n",
              "      <td>[비오는날, 장마, 비오는날듣기좋은노래, 비]</td>\n",
              "      <td>30119</td>\n",
              "      <td>비 올때 생각나는 노래</td>\n",
              "      <td>[416340, 451860, 353753, 39613, 506254, 346897, 661406, 117716, 655203, 513137, 153105, 231462, 504679, 164371, 656179, 560218, 50441, 172463, 113667, 216955, 221785, 29532, 98472, 141090, 683830, 594592, 109574, 132130, 241481, 147466, 140867, 193232, 440160, 435944, 658253, 235949, 583792, 510441, 401000, 202564, 346060, 32486, 523144, 158622, 353211, 16091, 357367, 63281, 174749, 24282, 182055, 89977, 679552, 70185, 564698, 16482, 600802, 52770, 386218, 224847, 529997, 65788, 428854, 672271, 102678, 434006, 409591, 591506, 68502, 460823, 370745, 545185, 157390, 150756, 311995, 63350, 56324]</td>\n",
              "      <td>7</td>\n",
              "      <td>2019-10-03 22:25:01.000</td>\n",
              "    </tr>\n",
              "    <tr>\n",
              "      <th>1215</th>\n",
              "      <td>[숨은명곡, 감성, 비, 카페, 드라이브, 휴식, 기분전환, 산책, 인디, 밤]</td>\n",
              "      <td>22214</td>\n",
              "      <td>1.인디 베스트: 목소리 좋은 남자들</td>\n",
              "      <td>[412676, 191339, 392945, 578876, 598047, 624829, 13697, 456628, 123463, 474906, 395208, 286229, 460611, 698649, 376814, 264677, 237201, 683135, 373692, 194427, 681256, 197752, 501349, 592523, 573989, 342503, 23921, 152793, 264576, 572996, 439592, 130664, 603551, 264928, 432191, 351888, 181687, 544749, 397184, 212111, 92570, 120885, 595641, 252744, 417585, 629112, 641648, 94020]</td>\n",
              "      <td>21</td>\n",
              "      <td>2018-07-05 18:47:17.000</td>\n",
              "    </tr>\n",
              "  </tbody>\n",
              "</table>\n",
              "</div>"
            ],
            "text/plain": [
              "                                              tags  ...                updt_date\n",
              "118        [비오는날, 감성, 비, 아련, 발라드, 멜로, OST, 치명, 사랑]  ...  2020-04-10 00:08:52.000\n",
              "148                   [비오는날, 비_오는_날, 휴식, 비_오는날, 비]  ...  2020-02-16 00:56:45.000\n",
              "782                               [불면증, 새벽, 겨울, 비]  ...  2020-03-14 13:48:43.000\n",
              "1058                     [비오는날, 장마, 비오는날듣기좋은노래, 비]  ...  2019-10-03 22:25:01.000\n",
              "1215  [숨은명곡, 감성, 비, 카페, 드라이브, 휴식, 기분전환, 산책, 인디, 밤]  ...  2018-07-05 18:47:17.000\n",
              "\n",
              "[5 rows x 6 columns]"
            ]
          },
          "metadata": {
            "tags": []
          },
          "execution_count": 13
        }
      ]
    },
    {
      "cell_type": "code",
      "metadata": {
        "scrolled": true,
        "id": "YsEDP6uG2G5f",
        "colab_type": "code",
        "colab": {
          "base_uri": "https://localhost:8080/",
          "height": 71
        },
        "outputId": "59a0e172-05f8-4641-8258-e52a41367e90"
      },
      "source": [
        "rec_tags = []\n",
        "rec_songs = []\n",
        "\n",
        "for index, row in searched_train.iterrows(): # row: series\n",
        "\n",
        "    # 태그 추출\n",
        "    row_tags = row.tags\n",
        "    for tag in row_tags: # row_tags: list\n",
        "        if len(rec_tags) >= 10:\n",
        "            break\n",
        "        if '비' not in tag: # search keyword\n",
        "            rec_tags.append(tag)\n",
        "\n",
        "    # 노래 추출\n",
        "    row_songs = row.songs\n",
        "    for song in row_songs: # row_songs: list\n",
        "        if len(rec_songs) >= 100:\n",
        "            break\n",
        "        rec_songs.append(song)\n",
        "\n",
        "    if len(rec_tags) >= 10 and len(rec_songs) >= 100:\n",
        "        break\n",
        "\n",
        "print(rec_tags)\n",
        "print(rec_songs)"
      ],
      "execution_count": 14,
      "outputs": [
        {
          "output_type": "stream",
          "text": [
            "['감성', '아련', '발라드', '멜로', 'OST', '치명', '사랑', '휴식', '불면증', '새벽']\n",
            "[452316, 148785, 399636, 356564, 333768, 672355, 262019, 299789, 150653, 10232, 572932, 514134, 75118, 598294, 170159, 393436, 552496, 535097, 469459, 16634, 54614, 299107, 35603, 378146, 318996, 446875, 301977, 686043, 94809, 623183, 468612, 341556, 502749, 266820, 66897, 46046, 506883, 520379, 348895, 386218, 176424, 464140, 642481, 542099, 549149, 120974, 30020, 32690, 405206, 563262, 630884, 121860, 133091, 527764, 468136, 260894, 22845, 148876, 133143, 305761, 238285, 561025, 342925, 222141, 87920, 276092, 252823, 37888, 586300, 152422, 165281, 667100, 605326, 537527, 671380, 453121, 92356, 67756, 357367, 435053, 15341, 246531, 595562, 93156, 473256, 186156, 53849, 255065, 182368, 606703, 41587, 530256, 61552, 320835, 543097, 692123, 621969, 200267, 271531, 109903]\n"
          ],
          "name": "stdout"
        }
      ]
    },
    {
      "cell_type": "code",
      "metadata": {
        "id": "JNIJ48MO2G5m",
        "colab_type": "code",
        "colab": {}
      },
      "source": [
        "val_with_tags = val_with_tags.reset_index()"
      ],
      "execution_count": 15,
      "outputs": []
    },
    {
      "cell_type": "code",
      "metadata": {
        "id": "3O0Cdn3w2G5q",
        "colab_type": "code",
        "colab": {}
      },
      "source": [
        "val_with_tags.drop('index', axis=1, inplace=True)"
      ],
      "execution_count": 16,
      "outputs": []
    },
    {
      "cell_type": "code",
      "metadata": {
        "id": "piWknNac2G5w",
        "colab_type": "code",
        "colab": {
          "base_uri": "https://localhost:8080/",
          "height": 289
        },
        "outputId": "a13a3683-0ff2-462e-d807-537b037b749e"
      },
      "source": [
        "val_with_tags.head()"
      ],
      "execution_count": 23,
      "outputs": [
        {
          "output_type": "execute_result",
          "data": {
            "text/html": [
              "<div>\n",
              "<style scoped>\n",
              "    .dataframe tbody tr th:only-of-type {\n",
              "        vertical-align: middle;\n",
              "    }\n",
              "\n",
              "    .dataframe tbody tr th {\n",
              "        vertical-align: top;\n",
              "    }\n",
              "\n",
              "    .dataframe thead th {\n",
              "        text-align: right;\n",
              "    }\n",
              "</style>\n",
              "<table border=\"1\" class=\"dataframe\">\n",
              "  <thead>\n",
              "    <tr style=\"text-align: right;\">\n",
              "      <th></th>\n",
              "      <th>tags</th>\n",
              "      <th>id</th>\n",
              "      <th>plylst_title</th>\n",
              "      <th>songs</th>\n",
              "      <th>like_cnt</th>\n",
              "      <th>updt_date</th>\n",
              "    </tr>\n",
              "  </thead>\n",
              "  <tbody>\n",
              "    <tr>\n",
              "      <th>0</th>\n",
              "      <td>[비, 분위기, 컨트리, 서정적인]</td>\n",
              "      <td>138538</td>\n",
              "      <td></td>\n",
              "      <td>[173033, 138237, 63140, 15733, 461780, 308519, 645777, 225090, 73748, 204150]</td>\n",
              "      <td>2</td>\n",
              "      <td>2019-06-12 17:43:35.000</td>\n",
              "    </tr>\n",
              "    <tr>\n",
              "      <th>1</th>\n",
              "      <td>[스트레스]</td>\n",
              "      <td>80810</td>\n",
              "      <td>리듬타면서 빡시게 운동하자!!!(스트레스 날리자):}</td>\n",
              "      <td>[]</td>\n",
              "      <td>127</td>\n",
              "      <td>2017-02-09 17:33:45.000</td>\n",
              "    </tr>\n",
              "    <tr>\n",
              "      <th>2</th>\n",
              "      <td>[아침, 눈, 크리스마스]</td>\n",
              "      <td>136650</td>\n",
              "      <td></td>\n",
              "      <td>[174132, 257367, 539802, 568691, 296891, 384718, 367173, 353844, 327260, 617514, 549031, 205884, 344666, 211309, 587112, 349494, 594472, 290695]</td>\n",
              "      <td>6</td>\n",
              "      <td>2017-11-24 11:26:05.000</td>\n",
              "    </tr>\n",
              "    <tr>\n",
              "      <th>3</th>\n",
              "      <td>[EDM]</td>\n",
              "      <td>53131</td>\n",
              "      <td></td>\n",
              "      <td>[392257, 668879, 460746, 680240, 490966, 250108, 431910, 65548, 26682, 361097, 82191, 348201, 547681, 286564, 118525, 155043, 61432, 158581, 228396]</td>\n",
              "      <td>268</td>\n",
              "      <td>2016-09-19 15:40:31.000</td>\n",
              "    </tr>\n",
              "    <tr>\n",
              "      <th>4</th>\n",
              "      <td>[생각나]</td>\n",
              "      <td>2380</td>\n",
              "      <td>다시 생각나는 그 사람</td>\n",
              "      <td>[]</td>\n",
              "      <td>6</td>\n",
              "      <td>2016-03-19 23:53:20.000</td>\n",
              "    </tr>\n",
              "  </tbody>\n",
              "</table>\n",
              "</div>"
            ],
            "text/plain": [
              "                  tags      id  ... like_cnt                updt_date\n",
              "0  [비, 분위기, 컨트리, 서정적인]  138538  ...        2  2019-06-12 17:43:35.000\n",
              "1               [스트레스]   80810  ...      127  2017-02-09 17:33:45.000\n",
              "2       [아침, 눈, 크리스마스]  136650  ...        6  2017-11-24 11:26:05.000\n",
              "3                [EDM]   53131  ...      268  2016-09-19 15:40:31.000\n",
              "4                [생각나]    2380  ...        6  2016-03-19 23:53:20.000\n",
              "\n",
              "[5 rows x 6 columns]"
            ]
          },
          "metadata": {
            "tags": []
          },
          "execution_count": 23
        }
      ]
    },
    {
      "cell_type": "code",
      "metadata": {
        "id": "UUwQ1LbQ2G51",
        "colab_type": "code",
        "colab": {}
      },
      "source": [
        ""
      ],
      "execution_count": 17,
      "outputs": []
    },
    {
      "cell_type": "code",
      "metadata": {
        "id": "qsjpTVBx2G56",
        "colab_type": "code",
        "colab": {}
      },
      "source": [
        ""
      ],
      "execution_count": 17,
      "outputs": []
    }
  ]
}